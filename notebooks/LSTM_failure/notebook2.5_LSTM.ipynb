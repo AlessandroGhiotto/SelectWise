{
 "cells": [
  {
   "cell_type": "markdown",
   "metadata": {},
   "source": [
    "---\n",
    "\n",
    "<div align='center'>\n",
    "<font size=\"+2\">\n",
    "\n",
    "TM&NLP - Project\n",
    "\n",
    "<b>Classification Between Multiple Choices </b>\n",
    "\n",
    "Ghiotto Alessandro 513944\n",
    "\n",
    "</font>\n",
    "</div>\n",
    "\n",
    "---"
   ]
  },
  {
   "cell_type": "markdown",
   "metadata": {},
   "source": [
    "# Notebook 3 - Contextualized Embeddings:\n",
    "\n",
    "# **TO BE UPDATED**\n",
    "\n",
    "1. Representation by means of static word embeddings:\n",
    "    - Word2Vec\n",
    "    - GloVE\n",
    "    - FastText\n",
    "    - Doc2Vec\n",
    "2. Other ways of combining word embeddings:\n",
    "    - Remove duplicated words\n",
    "    - Word embeddings weighted by their idf score\n",
    "3. Other ways of choosing the answer:\n",
    "    - Siamese Neural Network\n",
    "    - Feed Forward Neural Network\n",
    "\n",
    "\n",
    "---"
   ]
  },
  {
   "cell_type": "markdown",
   "metadata": {},
   "source": [
    "Load Data"
   ]
  },
  {
   "cell_type": "code",
   "execution_count": 13,
   "metadata": {},
   "outputs": [
    {
     "data": {
      "application/vnd.jupyter.widget-view+json": {
       "model_id": "968aa5d687644365a93446940940ef7b",
       "version_major": 2,
       "version_minor": 0
      },
      "text/plain": [
       "Map:   0%|          | 0/7323 [00:00<?, ? examples/s]"
      ]
     },
     "metadata": {},
     "output_type": "display_data"
    },
    {
     "data": {
      "application/vnd.jupyter.widget-view+json": {
       "model_id": "e6620c232afb4f6d937136db645ec08b",
       "version_major": 2,
       "version_minor": 0
      },
      "text/plain": [
       "Map:   0%|          | 0/811 [00:00<?, ? examples/s]"
      ]
     },
     "metadata": {},
     "output_type": "display_data"
    },
    {
     "data": {
      "text/plain": [
       "{'id': '3E7TUJ2EGCLQNOV1WEAJ2NN9ROPD9K',\n",
       " 'question': 'What type of water formation is formed by clouds?',\n",
       " 'choices': ['pearls',\n",
       "  'streams',\n",
       "  'shells',\n",
       "  'diamonds',\n",
       "  'rain',\n",
       "  'beads',\n",
       "  'cooled',\n",
       "  'liquid'],\n",
       " 'answerKey': 'F',\n",
       " 'fact1': 'beads of water are formed by water vapor condensing',\n",
       " 'fact2': 'Clouds are made of water vapor.',\n",
       " 'combinedfact': 'Beads of water can be formed by clouds.',\n",
       " 'formatted_question': 'What type of water formation is formed by clouds? (A) pearls (B) streams (C) shells (D) diamonds (E) rain (F) beads (G) cooled (H) liquid'}"
      ]
     },
     "execution_count": 13,
     "metadata": {},
     "output_type": "execute_result"
    }
   ],
   "source": [
    "from datasets import load_dataset\n",
    "import pandas as pd\n",
    "import numpy as np\n",
    "import random\n",
    "import torch\n",
    "import matplotlib.pyplot as plt\n",
    "import seaborn as sns\n",
    "from datasets import Dataset\n",
    "sns.set_theme(style=\"darkgrid\")\n",
    "\n",
    "def set_seed(seed):\n",
    "    random.seed(seed)\n",
    "    np.random.seed(seed)\n",
    "    torch.random.manual_seed(seed)\n",
    "    torch.manual_seed(seed)\n",
    "    torch.cuda.manual_seed_all(seed)\n",
    "\n",
    "# set the seed\n",
    "seed = 8\n",
    "set_seed(seed)\n",
    "\n",
    "# set gpu as default device and float32 as default dtype\n",
    "mydevice = torch.device('cuda' if torch.cuda.is_available() else 'cpu')\n",
    "torch.set_default_device(mydevice) # default tensor device\n",
    "torch.set_default_dtype(torch.float32) # default tensor dtype\n",
    "\n",
    "dataset = load_dataset(\"allenai/qasc\")\n",
    "\n",
    "n_train_sample = 7323\n",
    "dataset_train = dataset['train'].select(range(n_train_sample))\n",
    "dataset_val = dataset['train'].select(range(n_train_sample, len(dataset['train'])))\n",
    "dataset_test = dataset['validation']\n",
    "\n",
    "def format_choices(example):\n",
    "    # transform the choices from a dictionary to a list of strings\n",
    "    # I will eliminate the labels, if we know that the order is always the same\n",
    "    # Does all the samples have the same order of choices?\n",
    "    if example['choices']['label'] == ['A', 'B', 'C', 'D', 'E', 'F', 'G', 'H']:\n",
    "        # get the text of the choices\n",
    "        example['choices'] = example['choices']['text']\n",
    "    else:\n",
    "        print(\"The order of the choices is not the same for all the examples\")\n",
    "    return example\n",
    "\n",
    "dataset_train = dataset_train.map(format_choices)\n",
    "dataset_val = dataset_val.map(format_choices)\n",
    "dataset_test = dataset_test.map(format_choices)\n",
    "\n",
    "# Display the dataset\n",
    "dataset_train[0]"
   ]
  },
  {
   "cell_type": "markdown",
   "metadata": {},
   "source": [
    "---\n",
    "\n",
    "# **BidirectionalLSTM**\n",
    "\n",
    "As contextualized word embeddings I will take the output of the BidirectionalLSTM Neural Network. Then I will feed it to a classification head (MLP). The task is Binary classification (1 for the correct choice, 0 otherwise), `loss = 'binary_cross_entropy'`"
   ]
  },
  {
   "cell_type": "markdown",
   "metadata": {},
   "source": [
    "First we need to build the tokenizer, I will use **WordPiece** tokenizer"
   ]
  },
  {
   "cell_type": "markdown",
   "metadata": {},
   "source": [
    "**First we build the tokenizer**"
   ]
  },
  {
   "cell_type": "code",
   "execution_count": 14,
   "metadata": {},
   "outputs": [
    {
     "name": "stdout",
     "output_type": "stream",
     "text": [
      "\n",
      "\n",
      "\n",
      "What is the capital of France?\n",
      "Encoding(num_tokens=10, attributes=[ids, type_ids, tokens, offsets, attention_mask, special_tokens_mask, overflowing])\n",
      "[104, 118, 106, 1804, 124, 108, 114, 4528, 159, 25]\n",
      "['what', 'is', 'the', 'cap', '##it', '##al', 'of', 'fran', '##ce', '?']\n"
     ]
    }
   ],
   "source": [
    "from tokenizers import Tokenizer\n",
    "from tokenizers.models import WordPiece\n",
    "from tokenizers.trainers import WordPieceTrainer\n",
    "from tokenizers import decoders\n",
    "\n",
    "vocab_size = 15000\n",
    "tokenizer = Tokenizer(WordPiece(unk_token=\"[UNK]\"))\n",
    "\n",
    "# decoding technique: how to put back together our subwords\n",
    "tokenizer.decoder = decoders.WordPiece()\n",
    "\n",
    "# we can set various special tokens (extra) useful for handling specific cases if needed.\n",
    "trainer = WordPieceTrainer(vocab_size=vocab_size,\n",
    "                     special_tokens=[\"[PAD]\", \"[UNK]\", \"[CLS]\", \"[SEP]\", \"[MASK]\"])\n",
    "\n",
    "from tokenizers.pre_tokenizers import Whitespace\n",
    "from tokenizers.normalizers import Lowercase\n",
    "\n",
    "# PREPROCESSING STEPS\n",
    "# before tokenization we lowercase all words\n",
    "tokenizer.normalizer = Lowercase()\n",
    "# This pre-tokenizer simply splits using the following regex: \\w+|[^\\w\\s]+ (spaces and punctuations)\n",
    "tokenizer.pre_tokenizer = Whitespace()\n",
    "\n",
    "# TRAIN\n",
    "# generate a text file containing all the texts\n",
    "with open(\"tokenizers/qasc_textForTokenizer.txt\", \"w\", encoding=\"utf-8\") as f:\n",
    "    # remove duplicates (a lot of facts are repeated)\n",
    "    train_texts = list(set(dataset_train[\"question\"] + dataset_train[\"fact1\"] + dataset_train[\"fact2\"]))\n",
    "    for i in range(len(train_texts)):\n",
    "        f.write(train_texts[i] + \"\\n\")\n",
    "\n",
    "train_file = \"tokenizers/qasc_textForTokenizer.txt\"\n",
    "files = [train_file]\n",
    "tokenizer.train(files, trainer)\n",
    "\n",
    "# save as a json file (so we can use it for later for example)\n",
    "saved_tokenizer = \"tokenizers/WordPiece_tokenizer.json\"\n",
    "tokenizer.save(saved_tokenizer)\n",
    "\n",
    "### EXAMPLE\n",
    "# load the tokenizer\n",
    "tokenizer = Tokenizer.from_file(saved_tokenizer)\n",
    "# decoding technique: how to put back together our subwords\n",
    "tokenizer.decoder = decoders.WordPiece()\n",
    "# encode a sentence\n",
    "sentence = \"What is the capital of France?\"\n",
    "encoded = tokenizer.encode(sentence)\n",
    "print(sentence)\n",
    "print(encoded)\n",
    "print(encoded.ids)\n",
    "print(encoded.tokens)"
   ]
  },
  {
   "cell_type": "code",
   "execution_count": 15,
   "metadata": {},
   "outputs": [
    {
     "name": "stdout",
     "output_type": "stream",
     "text": [
      "PAD ID: 0\n",
      "VOCABULARY SIZE: 11829\n",
      "CHECK PADDING IDX: 0\n"
     ]
    }
   ],
   "source": [
    "MAX_LENGTH = 300\n",
    "\n",
    "# MAKE IT FAST + PADDING + TRUNCATION\n",
    "\n",
    "# load the tokenizer\n",
    "tokenizer = Tokenizer.from_file(saved_tokenizer)\n",
    "\n",
    "# Enabling padding with the right chosen index\n",
    "pad_id = tokenizer.token_to_id(\"[PAD]\")\n",
    "print(\"PAD ID: \"+str(pad_id))\n",
    "tokenizer.enable_padding(pad_id=pad_id, pad_token=\"[PAD]\")\n",
    "\n",
    "from transformers import PreTrainedTokenizerFast\n",
    "# we can use a fast version of our tokenizer\n",
    "fast_tokenizer = PreTrainedTokenizerFast(tokenizer_object=tokenizer)\n",
    "# we can set the cut-off threshold for how long (i.e. how many words in a sentence) we want to handle our sentences\n",
    "# all the words after MAX_LEGTH are just remove (truncate excessive contexts) (also for memory reasons)\n",
    "fast_tokenizer.model_max_length = MAX_LENGTH\n",
    "# truncate on the left, so I keep the choice which is at the end\n",
    "fast_tokenizer.truncation_side = 'left'\n",
    "\n",
    "vocab_size = len(fast_tokenizer)\n",
    "print(\"VOCABULARY SIZE: \"+str(vocab_size))\n",
    "padding_idx = fast_tokenizer.pad_token_id\n",
    "print(\"CHECK PADDING IDX: \"+str(padding_idx))"
   ]
  },
  {
   "cell_type": "markdown",
   "metadata": {},
   "source": [
    "Since this sentences of the dataset are quite specific, we have reached a vocabulary size equal to the number of unique words in the data."
   ]
  },
  {
   "cell_type": "code",
   "execution_count": 16,
   "metadata": {},
   "outputs": [
    {
     "data": {
      "application/vnd.jupyter.widget-view+json": {
       "model_id": "e1c6cd8ef7594866923aeb0b32e48883",
       "version_major": 2,
       "version_minor": 0
      },
      "text/plain": [
       "Map:   0%|          | 0/7323 [00:00<?, ? examples/s]"
      ]
     },
     "metadata": {},
     "output_type": "display_data"
    },
    {
     "name": "stdout",
     "output_type": "stream",
     "text": [
      "number of samples:  58584\n",
      "number of tokens in the first sample:  28\n",
      "first sample:  tensor([ 104,  530,  114,  183, 2361,  118,  408,  160, 1324,   25, 3601,  114,\n",
      "         183,  121,  408,  160,  183,  733, 1924, 1324,  121,  504,  114,  183,\n",
      "         733,   11,  513, 8689], device='cuda:0')\n",
      "decoded:  what type of water formation is formed by clouds? beads of water are formed by water vapor condensing clouds are made of water vapor. pearls\n"
     ]
    }
   ],
   "source": [
    "# TOKENIZE THE FULL TRAINING DATA\n",
    "def preprocess_function(examples):\n",
    "    # question + fact1 + fact2 + choice\n",
    "    # we do it for all choices (for each example)\n",
    "    sentences = [\n",
    "        f\"{examples['question']} {examples['fact1']} {examples['fact2']} {examples['choices'][choice_idx]}\" \n",
    "        for choice_idx in range(8)\n",
    "    ]\n",
    "    \n",
    "    # Tokenize\n",
    "    tokenized_examples = fast_tokenizer(sentences, truncation=True)\n",
    "    # I know that for each sample I have 8 choices\n",
    "    # 0->A, 1->B, 2->C, 3->D, 4->E, 5->F, 6->G, 7->H\n",
    "    # 8->A, ...\n",
    "    return tokenized_examples\n",
    "\n",
    "dataset_train_inputids = dataset_train.map(preprocess_function).with_format('torch')['input_ids']\n",
    "dataset_train_inputids = [inputid for row in dataset_train_inputids for inputid in row]\n",
    "print('number of samples: ', len(dataset_train_inputids))\n",
    "example = dataset_train_inputids[0]\n",
    "print('number of tokens in the first sample: ', len(example))\n",
    "print('first sample: ', example)\n",
    "print('decoded: ', fast_tokenizer.decode(example))"
   ]
  },
  {
   "cell_type": "code",
   "execution_count": 17,
   "metadata": {},
   "outputs": [
    {
     "data": {
      "application/vnd.jupyter.widget-view+json": {
       "model_id": "9d23cd51e31e4af886532fbe38173160",
       "version_major": 2,
       "version_minor": 0
      },
      "text/plain": [
       "Map:   0%|          | 0/7323 [00:00<?, ? examples/s]"
      ]
     },
     "metadata": {},
     "output_type": "display_data"
    },
    {
     "name": "stdout",
     "output_type": "stream",
     "text": [
      "original train_set len: 58584\n",
      "[0, 0, 0, 0, 0, 1, 0, 0] corresponding to the first example F\n",
      "[0, 0, 0, 0, 1, 0, 0, 0] corresponding to the second example E\n",
      "Dataset({\n",
      "    features: ['input_ids', 'labels'],\n",
      "    num_rows: 52725\n",
      "})\n"
     ]
    }
   ],
   "source": [
    "# CREATE THE LABELS\n",
    "# for each answerKey I create 8 labels (one for each choice)\n",
    "# 0->A, 1->B, 2->C, 3->D, 4->E, 5->F, 6->G, 7->H\n",
    "# 1 if the choice is correct, 0 otherwise\n",
    "def create_labels(example):\n",
    "    labels = []\n",
    "    for i in range(8):\n",
    "        if example['answerKey'] == chr(65+i):\n",
    "            labels.append(1)\n",
    "        else:\n",
    "            labels.append(0)\n",
    "    example['label'] = labels\n",
    "    return example\n",
    "\n",
    "# apply the function to the dataset and then flatten the list\n",
    "# so that we have a list of length 8*len(dataset)\n",
    "# I didn't used batches for semplicity (don't have many samples, and it's a simple operation)\n",
    "labels = dataset_train.map(create_labels, remove_columns=dataset_train.column_names)\n",
    "labels = [label for row in labels[\"label\"] for label in row]\n",
    "print('original train_set len:', len(labels))\n",
    "print(labels[:8], 'corresponding to the first example', dataset_train['answerKey'][0])\n",
    "print(labels[8:16], 'corresponding to the second example', dataset_train['answerKey'][1])\n",
    "\n",
    "# CREATE THE DATASET\n",
    "# I create a dictionary with the input_ids and the labels\n",
    "# I will use this dictionary to create the Dataset object\n",
    "data = {'input_ids': dataset_train_inputids, 'labels': labels}\n",
    "data_train = Dataset.from_dict(data).with_format('torch')\n",
    "\n",
    "# take a portion of the data for validation\n",
    "data_val = data_train.train_test_split(test_size=0.1, seed=seed, shuffle=True)\n",
    "data_train = data_val['train']\n",
    "data_val = data_val['test']\n",
    "\n",
    "print(data_train)"
   ]
  },
  {
   "cell_type": "markdown",
   "metadata": {},
   "source": [
    "Now that we have tokenized the dataset and created the labels we can build the model, contituted by 2 BiLSTM layers + a classification head"
   ]
  },
  {
   "cell_type": "code",
   "execution_count": 18,
   "metadata": {},
   "outputs": [],
   "source": [
    "import torch\n",
    "import torch.nn as nn\n",
    "import torch.nn.functional as F\n",
    "\n",
    "class BiLSTM_Classifier(nn.Module):\n",
    "    def __init__(self, num_embeddings, embedding_dim, padding_idx, out_features=128, lstm_layers=1):\n",
    "        # num_embeddings : size of the dictionary of embeddings\n",
    "\t\t# embedding_dim  : the size of each embedding vector\n",
    "\t\t# padding_idx : If specified, the entries at padding_idx do not contribute to the gradient\n",
    "\t\t# out_features : size of the output features\n",
    "\t\t# lstm_layers : number of recurrent layers\n",
    "\t\t\n",
    "\t\t# the embedding vector at padding_idx is not updated during training, it remains as a fixed “pad”\n",
    "        super(BiLSTM_Classifier, self).__init__()\n",
    "        self.lstm_layers = lstm_layers\n",
    "        self.embedding_dim = embedding_dim\n",
    "\n",
    "        self.embedding_layer = nn.Embedding(num_embeddings, embedding_dim, padding_idx=padding_idx)\n",
    "        self.lstm = nn.LSTM(input_size=embedding_dim, hidden_size=embedding_dim, num_layers=lstm_layers,\n",
    "                            bidirectional=True, batch_first=True)\n",
    "        self.dropout = nn.Dropout(0.2)\n",
    "        self.fc1 = nn.Linear(in_features=embedding_dim * 2, out_features=out_features)\n",
    "        self.fc2 = nn.Linear(out_features, 1)\n",
    "\n",
    "    def forward(self, x):\n",
    "        # Initialize the hidden state and the cell state\n",
    "        # batch_size = x.size(0)\n",
    "        # h = torch.zeros((self.lstm_layers * 2, batch_size, self.embedding_dim)).to(x.device)\n",
    "        # c = torch.zeros((self.lstm_layers * 2, batch_size, self.embedding_dim)).to(x.device)\n",
    "        # torch.nn.init.xavier_normal_(h)\n",
    "\t\t# torch.nn.init.xavier_normal_(c)\n",
    "\n",
    "        embs = self.embedding_layer(x)\n",
    "        out_lstm, (h_n, c_n) = self.lstm(embs)#, (h, c))\n",
    "\n",
    "        # out_lstm : [batch_size, seq_len, 2*hidden_size]\n",
    "\t\t# the last element of out_lstm contains the final forward hidden state and the initial reverse hidden state\n",
    "        # Get the last hidden state\n",
    "        out = out_lstm[:, -1, :]\n",
    "        out = self.dropout(out)\n",
    "        out = F.relu(self.fc1(out))\n",
    "        out = self.dropout(out)\n",
    "        out = torch.sigmoid(self.fc2(out))\n",
    "\n",
    "        return out"
   ]
  },
  {
   "cell_type": "code",
   "execution_count": 19,
   "metadata": {},
   "outputs": [
    {
     "name": "stdout",
     "output_type": "stream",
     "text": [
      "=================================================================\n",
      "Layer (type:depth-idx)                   Param #\n",
      "=================================================================\n",
      "BiLSTM_Classifier                        --\n",
      "├─Embedding: 1-1                         3,028,224\n",
      "├─LSTM: 1-2                              2,629,632\n",
      "├─Dropout: 1-3                           --\n",
      "├─Linear: 1-4                            65,664\n",
      "├─Linear: 1-5                            129\n",
      "=================================================================\n",
      "Total params: 5,723,649\n",
      "Trainable params: 5,723,649\n",
      "Non-trainable params: 0\n",
      "=================================================================\n",
      "EPOCH 0\n",
      "Epoch 0  , iter 100  - train_loss 0.3452, val_loss 0.7547\n",
      "Epoch 0  , iter 200  - train_loss 0.3620, val_loss 0.7551\n",
      "Epoch 0  , iter 300  - train_loss 0.3828, val_loss 0.7549\n",
      "Epoch 0  , iter 400  - train_loss 0.3628, val_loss 0.7557\n",
      "EPOCH 1\n",
      "Epoch 1  , iter 500  - train_loss 0.3944, val_loss 0.7548\n",
      "Epoch 1  , iter 600  - train_loss 0.3888, val_loss 0.7546\n",
      "Epoch 1  , iter 700  - train_loss 0.3884, val_loss 0.7562\n",
      "Epoch 1  , iter 800  - train_loss 0.4213, val_loss 0.7534\n",
      "EPOCH 2\n",
      "Epoch 2  , iter 900  - train_loss 0.3193, val_loss 0.7549\n",
      "Epoch 2  , iter 1000 - train_loss 0.3345, val_loss 0.7616\n",
      "Epoch 2  , iter 1100 - train_loss 0.3432, val_loss 0.7519\n",
      "Epoch 2  , iter 1200 - train_loss 0.4201, val_loss 0.7574\n",
      "EPOCH 3\n",
      "Epoch 3  , iter 1300 - train_loss 0.3257, val_loss 0.7529\n",
      "Epoch 3  , iter 1400 - train_loss 0.3055, val_loss 0.7545\n",
      "Epoch 3  , iter 1500 - train_loss 0.3454, val_loss 0.7509\n",
      "Epoch 3  , iter 1600 - train_loss 0.3566, val_loss 0.7512\n",
      "EPOCH 4\n",
      "Epoch 4  , iter 1700 - train_loss 0.4336, val_loss 0.7512\n",
      "Epoch 4  , iter 1800 - train_loss 0.3129, val_loss 0.7495\n",
      "Epoch 4  , iter 1900 - train_loss 0.2796, val_loss 0.7485\n",
      "Epoch 4  , iter 2000 - train_loss 0.2637, val_loss 0.7502\n",
      "EPOCH 5\n",
      "Epoch 5  , iter 2100 - train_loss 0.3999, val_loss 0.7547\n",
      "Epoch 5  , iter 2200 - train_loss 0.2950, val_loss 0.7517\n",
      "Epoch 5  , iter 2300 - train_loss 0.3448, val_loss 0.7468\n",
      "Epoch 5  , iter 2400 - train_loss 0.4874, val_loss 0.7566\n"
     ]
    }
   ],
   "source": [
    "# HYPERPARAMETERS\n",
    "\n",
    "embedding_dim = 256\n",
    "out_features = 128\n",
    "n_lstm_layers = 2\n",
    "learning_rate = 5*1e-5\n",
    "batch_size = 128\n",
    "nb_epoch = 6\n",
    "\n",
    "# ---------------------\n",
    "\n",
    "from torch.utils.data import DataLoader\n",
    "from transformers import DataCollatorWithPadding\n",
    "from torchinfo import summary\n",
    "\n",
    "# DataCollatorWithPadding will add the Padding automatically (saved in our tokenizer)\n",
    "datacollator = DataCollatorWithPadding(tokenizer=fast_tokenizer)\n",
    "\n",
    "# DataLoader : take care of loading batch of data from our training data\n",
    "generator = torch.Generator(device=mydevice)\n",
    "dataloader_train = DataLoader(data_train, batch_size=batch_size, drop_last=False, shuffle=True, collate_fn=datacollator, generator=generator)\n",
    "dataloader_val = DataLoader(data_val, batch_size=batch_size, drop_last=False, shuffle=False, collate_fn=datacollator, generator=generator)\n",
    "\n",
    "# instantiate the model\n",
    "# vocab_size and padding_idx are taken from the tokenizer (saved before)\n",
    "BiLSTM_model = BiLSTM_Classifier(vocab_size, embedding_dim, padding_idx, out_features=out_features, lstm_layers=n_lstm_layers)\n",
    "BiLSTM_model.to(mydevice)\n",
    "# PRINT THE MODEL ARCHITECTURE\n",
    "print(summary(BiLSTM_model))\n",
    "\n",
    "# Optimizer and Loss\n",
    "optimizer = torch.optim.Adam(BiLSTM_model.parameters(), lr=learning_rate)\n",
    "loss_fn = nn.BCELoss()\n",
    "\n",
    "BiLSTM_model.train()\n",
    "\n",
    "counter = []\n",
    "loss_history_train = [] \n",
    "loss_history_val = []\n",
    "i = 0\n",
    "for epoch in range(nb_epoch):\n",
    "    print(\"EPOCH \"+str(epoch))\n",
    "    for item in dataloader_train:#, disable=True):\n",
    "        optimizer.zero_grad()\n",
    "        item = item.to(mydevice) # for GPU\n",
    "        # target = just the input, but start from the second word\n",
    "        inp_ids, labels = item['input_ids'], item['labels']\n",
    "\n",
    "        # output of the sigmoid is the probability of the correct class\n",
    "        output = BiLSTM_model(inp_ids)\n",
    "\n",
    "        # loss\n",
    "        loss = loss_fn(output, labels.float().unsqueeze(1))\n",
    "\n",
    "        # backpropagation\n",
    "        loss.backward()\n",
    "\n",
    "        # update the weights\n",
    "        optimizer.step()\n",
    "        \n",
    "        i += 1\n",
    "        # Every 100 batches print out the loss + save the loss\n",
    "        if i % 100 == 0 :\n",
    "            # compute the loss on the validation set\n",
    "            BiLSTM_model.eval()\n",
    "            with torch.no_grad():\n",
    "                val_loss = 0\n",
    "                for item in dataloader_val:\n",
    "                    item = item.to(mydevice)\n",
    "                    inp_ids, labels = item['input_ids'], item['labels']\n",
    "                    output = BiLSTM_model(inp_ids)\n",
    "                    val_loss += loss_fn(output, labels.float().unsqueeze(1))\n",
    "                    val_loss += loss_fn(output, labels.float().unsqueeze(1))\n",
    "                val_loss /= len(dataloader_val) # average loss\n",
    "            \n",
    "            print(f\"Epoch {epoch:<3}, iter {i:<4} - train_loss {loss.item():.4f}, val_loss {val_loss.item():.4f}\")\n",
    "            counter.append(i)\n",
    "            loss_history_train.append(loss.item())\n",
    "            loss_history_val.append(val_loss.item())\n",
    "            BiLSTM_model.train()\n",
    "\n",
    "# SAVE THE MODEL\n",
    "torch.save(BiLSTM_model.state_dict(), \"models/BiLSTM_Classifier.model\")"
   ]
  },
  {
   "cell_type": "code",
   "execution_count": 20,
   "metadata": {},
   "outputs": [
    {
     "data": {
      "image/png": "[encoded data removed]",
      "text/plain": [
       "<Figure size 640x480 with 1 Axes>"
      ]
     },
     "metadata": {},
     "output_type": "display_data"
    }
   ],
   "source": [
    "# loss history plot\n",
    "sns.lineplot(x=counter, y=loss_history_train, color='blue')\n",
    "sns.lineplot(x=counter, y=loss_history_val, color='red')\n",
    "plt.yscale('log')\n",
    "plt.title('Loss history')\n",
    "plt.xlabel('Iteration')\n",
    "plt.ylabel('Loss')\n",
    "plt.show()"
   ]
  },
  {
   "cell_type": "markdown",
   "metadata": {},
   "source": [
    "Now we need to use the network for prediction on our task. We take as result the answer which gives the highest output (closer to 1, the correct answer)."
   ]
  },
  {
   "cell_type": "code",
   "execution_count": 21,
   "metadata": {},
   "outputs": [],
   "source": [
    "def tokenize_dataset(dataset, preprocess_function=preprocess_function):\n",
    "    dataset_inputids = dataset.map(preprocess_function)['input_ids']\n",
    "    dataset_inputids = [inputid for row in dataset_inputids for inputid in row]\n",
    "    dataset_train_tokenized = {'input_ids': dataset_inputids}\n",
    "    dataset_train_tokenized = Dataset.from_dict(dataset_train_tokenized).with_format('torch')\n",
    "    return dataset_train_tokenized   \n",
    "\n",
    "def predict(dataset, model):\n",
    "    # tokenize the dataset\n",
    "    dataset_tokenized = tokenize_dataset(dataset)\n",
    "\n",
    "    # create the dataloader\n",
    "    datacollator = DataCollatorWithPadding(tokenizer=fast_tokenizer)\n",
    "    generator = torch.Generator(device=mydevice)\n",
    "    dataloader = DataLoader(dataset_tokenized, batch_size=batch_size, drop_last=False, shuffle=True, collate_fn=datacollator, generator=generator)\n",
    "\n",
    "    model.eval()\n",
    "\n",
    "    # Apply the model to the data\n",
    "    all_predictions = []\n",
    "    with torch.no_grad():\n",
    "        for batch in dataloader:\n",
    "            input_ids = batch['input_ids'].to(mydevice)\n",
    "            outputs = model(input_ids)\n",
    "            predictions = outputs.squeeze().cpu().numpy()\n",
    "            all_predictions.extend(predictions)\n",
    "\n",
    "    # Group the results by lists of 8 elements\n",
    "    grouped_predictions = [all_predictions[i:i + 8] for i in range(0, len(all_predictions), 8)]\n",
    "\n",
    "    # Predict the argmax for each list\n",
    "    predicted_labels = [np.argmax(group) for group in grouped_predictions]\n",
    "\n",
    "    # Convert the argmax to the corresponding letter\n",
    "    predicted_labels = [chr(65+label) for label in predicted_labels]\n",
    "\n",
    "    return predicted_labels\n",
    "\n",
    "\n",
    "from sklearn.metrics import accuracy_score, f1_score\n",
    "def evaluate_predictions(true_labels, predictions, dataset_label=None):\n",
    "    # dataset_label is a string that specifies the dataset{'train', 'validation', 'test'}\n",
    "    accuracy = accuracy_score(true_labels, predictions)\n",
    "    f1 = f1_score(true_labels, predictions, average='macro')\n",
    "    print(f\"{dataset_label} Accuracy:\", accuracy)\n",
    "    print(f\"{dataset_label} F1 Score:\", f1)\n",
    "    return accuracy, f1\n",
    " "
   ]
  },
  {
   "cell_type": "code",
   "execution_count": 22,
   "metadata": {},
   "outputs": [
    {
     "data": {
      "application/vnd.jupyter.widget-view+json": {
       "model_id": "95888d87c7a643538e9da86aa025ae3c",
       "version_major": 2,
       "version_minor": 0
      },
      "text/plain": [
       "Map:   0%|          | 0/7323 [00:00<?, ? examples/s]"
      ]
     },
     "metadata": {},
     "output_type": "display_data"
    },
    {
     "name": "stdout",
     "output_type": "stream",
     "text": [
      "train Accuracy: 0.1164823159907142\n",
      "train F1 Score: 0.11647329303710716\n"
     ]
    },
    {
     "data": {
      "application/vnd.jupyter.widget-view+json": {
       "model_id": "b0957f029f9040eaa6eb439ece7d5a7b",
       "version_major": 2,
       "version_minor": 0
      },
      "text/plain": [
       "Map:   0%|          | 0/811 [00:00<?, ? examples/s]"
      ]
     },
     "metadata": {},
     "output_type": "display_data"
    },
    {
     "name": "stdout",
     "output_type": "stream",
     "text": [
      "validation Accuracy: 0.12083847102342787\n",
      "validation F1 Score: 0.12023731657314927\n"
     ]
    }
   ],
   "source": [
    "# now we use the original train and validation datasets\n",
    "# load the model\n",
    "BiLSTM_model = BiLSTM_Classifier(vocab_size, embedding_dim, padding_idx, out_features=out_features, lstm_layers=n_lstm_layers)\n",
    "BiLSTM_model.load_state_dict(torch.load(\"models/BiLSTM_Classifier.model\", weights_only=True, map_location=mydevice))\n",
    "\n",
    "# predict\n",
    "predicted_labels_train = predict(dataset_train, BiLSTM_model)\n",
    "train_accuracy, train_f1 = evaluate_predictions(dataset_train['answerKey'], predicted_labels_train, 'train')\n",
    "\n",
    "predicted_labels_val = predict(dataset_val, BiLSTM_model)\n",
    "val_accuracy, val_f1 = evaluate_predictions(dataset_val['answerKey'], predicted_labels_val, 'validation')\n"
   ]
  },
  {
   "cell_type": "markdown",
   "metadata": {},
   "source": [
    "A simple LSTM is not enough, I think because this is trained from scratch and the classes don't carry a real meaning. The classes just tells if the answer is correct or not, a part from the final answer all the 8 sentences are identical. And also the model have seen just 8000 short sentences, which can be not enough for understanding language."
   ]
  },
  {
   "cell_type": "markdown",
   "metadata": {},
   "source": [
    "---\n",
    "---\n",
    "# **[SEP]**\n",
    "---\n",
    "---"
   ]
  },
  {
   "cell_type": "markdown",
   "metadata": {},
   "source": [
    "---\n",
    "\n",
    "# **x-transformer Encoder**\n",
    "\n",
    "Now we can do exactly the same done with the LSTM, but with the Transformer Encoder only architecture"
   ]
  },
  {
   "cell_type": "code",
   "execution_count": 34,
   "metadata": {},
   "outputs": [
    {
     "name": "stdout",
     "output_type": "stream",
     "text": [
      "===========================================================================\n",
      "Layer (type:depth-idx)                             Param #\n",
      "===========================================================================\n",
      "TransformerWrapper                                 --\n",
      "├─TokenEmbedding: 1-1                              --\n",
      "│    └─Embedding: 2-1                              6,056,448\n",
      "├─AbsolutePositionalEmbedding: 1-2                 --\n",
      "│    └─Embedding: 2-2                              153,600\n",
      "├─Identity: 1-3                                    --\n",
      "├─Dropout: 1-4                                     --\n",
      "├─Identity: 1-5                                    --\n",
      "├─Encoder: 1-6                                     --\n",
      "│    └─ModuleList: 2-3                             --\n",
      "│    │    └─ModuleList: 3-1                        1,049,088\n",
      "│    │    └─ModuleList: 3-2                        2,100,224\n",
      "│    │    └─ModuleList: 3-3                        1,049,088\n",
      "│    │    └─ModuleList: 3-4                        2,100,224\n",
      "│    └─Identity: 2-4                               --\n",
      "│    └─LayerNorm: 2-5                              512\n",
      "│    │    └─LayerNorm: 3-5                         --\n",
      "├─Linear: 1-7                                      6,056,448\n",
      "===========================================================================\n",
      "Total params: 18,565,632\n",
      "Trainable params: 18,565,632\n",
      "Non-trainable params: 0\n",
      "===========================================================================\n",
      "\n",
      "Ouput shape\n",
      "torch.Size([1, 300, 11829])\n"
     ]
    },
    {
     "name": "stderr",
     "output_type": "stream",
     "text": [
      "/home/max/.pyenv/versions/3.12.3/envs/nlp-env/lib/python3.12/site-packages/x_transformers/x_transformers.py:524: FutureWarning: `torch.cuda.amp.autocast(args...)` is deprecated. Please use `torch.amp.autocast('cuda', args...)` instead.\n",
      "  @autocast(enabled = False)\n",
      "/home/max/.pyenv/versions/3.12.3/envs/nlp-env/lib/python3.12/site-packages/x_transformers/x_transformers.py:548: FutureWarning: `torch.cuda.amp.autocast(args...)` is deprecated. Please use `torch.amp.autocast('cuda', args...)` instead.\n",
      "  @autocast(enabled = False)\n"
     ]
    }
   ],
   "source": [
    "from x_transformers import TransformerWrapper, Encoder\n",
    "\n",
    "# Hyperparameters\n",
    "embedding_dim = 512\n",
    "n_layers = 2\n",
    "n_heads = 8\n",
    "\n",
    "out_features = 128\n",
    "learning_rate = 1e-4\n",
    "batch_size = 128\n",
    "nb_epoch = 6\n",
    "\n",
    "# ---------------------\n",
    "\n",
    "trf_model = TransformerWrapper(\n",
    "    num_tokens = vocab_size,\n",
    "    max_seq_len = fast_tokenizer.model_max_length,\n",
    "    attn_layers = Encoder(\n",
    "        dim = embedding_dim, # hidden dimensionality\n",
    "        depth = n_layers, # number of layers\n",
    "        heads = n_heads # number of self-attention heads\n",
    "    )\n",
    ")\n",
    "trf_model.to(mydevice)\n",
    "\n",
    "print(summary(trf_model))\n",
    "# dimension of the output of the transformer\n",
    "print('\\nOuput shape')\n",
    "print(trf_model(torch.randint(0, vocab_size, (1, fast_tokenizer.model_max_length)).to(mydevice)).shape)"
   ]
  },
  {
   "cell_type": "code",
   "execution_count": 35,
   "metadata": {},
   "outputs": [
    {
     "data": {
      "text/plain": [
       "TransformerWrapper(\n",
       "  (token_emb): TokenEmbedding(\n",
       "    (emb): Embedding(11829, 512)\n",
       "  )\n",
       "  (pos_emb): AbsolutePositionalEmbedding(\n",
       "    (emb): Embedding(300, 512)\n",
       "  )\n",
       "  (post_emb_norm): Identity()\n",
       "  (emb_dropout): Dropout(p=0.0, inplace=False)\n",
       "  (project_emb): Identity()\n",
       "  (attn_layers): Encoder(\n",
       "    (layers): ModuleList(\n",
       "      (0): ModuleList(\n",
       "        (0): ModuleList(\n",
       "          (0): LayerNorm(\n",
       "            (ln): LayerNorm((512,), eps=1e-05, elementwise_affine=False)\n",
       "          )\n",
       "          (1-2): 2 x None\n",
       "        )\n",
       "        (1): Attention(\n",
       "          (to_q): Linear(in_features=512, out_features=512, bias=False)\n",
       "          (to_k): Linear(in_features=512, out_features=512, bias=False)\n",
       "          (to_v): Linear(in_features=512, out_features=512, bias=False)\n",
       "          (attend): Attend(\n",
       "            (attn_dropout): Dropout(p=0.0, inplace=False)\n",
       "          )\n",
       "          (to_out): Linear(in_features=512, out_features=512, bias=False)\n",
       "        )\n",
       "        (2): Residual()\n",
       "      )\n",
       "      (1): ModuleList(\n",
       "        (0): ModuleList(\n",
       "          (0): LayerNorm(\n",
       "            (ln): LayerNorm((512,), eps=1e-05, elementwise_affine=False)\n",
       "          )\n",
       "          (1-2): 2 x None\n",
       "        )\n",
       "        (1): FeedForward(\n",
       "          (ff): Sequential(\n",
       "            (0): Sequential(\n",
       "              (0): Linear(in_features=512, out_features=2048, bias=True)\n",
       "              (1): GELU(approximate='none')\n",
       "            )\n",
       "            (1): Dropout(p=0.0, inplace=False)\n",
       "            (2): Linear(in_features=2048, out_features=512, bias=True)\n",
       "          )\n",
       "        )\n",
       "        (2): Residual()\n",
       "      )\n",
       "      (2): ModuleList(\n",
       "        (0): ModuleList(\n",
       "          (0): LayerNorm(\n",
       "            (ln): LayerNorm((512,), eps=1e-05, elementwise_affine=False)\n",
       "          )\n",
       "          (1-2): 2 x None\n",
       "        )\n",
       "        (1): Attention(\n",
       "          (to_q): Linear(in_features=512, out_features=512, bias=False)\n",
       "          (to_k): Linear(in_features=512, out_features=512, bias=False)\n",
       "          (to_v): Linear(in_features=512, out_features=512, bias=False)\n",
       "          (attend): Attend(\n",
       "            (attn_dropout): Dropout(p=0.0, inplace=False)\n",
       "          )\n",
       "          (to_out): Linear(in_features=512, out_features=512, bias=False)\n",
       "        )\n",
       "        (2): Residual()\n",
       "      )\n",
       "      (3): ModuleList(\n",
       "        (0): ModuleList(\n",
       "          (0): LayerNorm(\n",
       "            (ln): LayerNorm((512,), eps=1e-05, elementwise_affine=False)\n",
       "          )\n",
       "          (1-2): 2 x None\n",
       "        )\n",
       "        (1): FeedForward(\n",
       "          (ff): Sequential(\n",
       "            (0): Sequential(\n",
       "              (0): Linear(in_features=512, out_features=2048, bias=True)\n",
       "              (1): GELU(approximate='none')\n",
       "            )\n",
       "            (1): Dropout(p=0.0, inplace=False)\n",
       "            (2): Linear(in_features=2048, out_features=512, bias=True)\n",
       "          )\n",
       "        )\n",
       "        (2): Residual()\n",
       "      )\n",
       "    )\n",
       "    (adaptive_mlp): Identity()\n",
       "    (final_norm): LayerNorm(\n",
       "      (ln): LayerNorm((512,), eps=1e-05, elementwise_affine=False)\n",
       "    )\n",
       "  )\n",
       "  (to_logits): Linear(in_features=512, out_features=11829, bias=False)\n",
       ")"
      ]
     },
     "execution_count": 35,
     "metadata": {},
     "output_type": "execute_result"
    }
   ],
   "source": [
    "trf_model"
   ]
  },
  {
   "cell_type": "code",
   "execution_count": 36,
   "metadata": {},
   "outputs": [],
   "source": [
    "\n",
    "class TransformerClassifier(nn.Module):\n",
    "    def __init__(self, trf_encoder, num_labels=2):\n",
    "        super(TransformerClassifier, self).__init__()\n",
    "        self.trf_encoder = trf_encoder\n",
    "        self.dropout = nn.Dropout(0.3)\n",
    "        self.classifier = nn.Linear(self.bert.config.hidden_size, num_labels)\n",
    "\n",
    "    def forward(self, input_ids):#, attention_mask):\n",
    "        outputs = self.trf_encoder(input_ids=input_ids)#, attention_mask=attention_mask)\n",
    "        cls_output = outputs.last_hidden_state[:, 0, :]  # Use the output of the [CLS] token\n",
    "        cls_output = self.dropout(cls_output)\n",
    "        logits = self.classifier(cls_output)\n",
    "        return logits"
   ]
  }
 ],
 "metadata": {
  "kernelspec": {
   "display_name": "nlp-env",
   "language": "python",
   "name": "python3"
  },
  "language_info": {
   "codemirror_mode": {
    "name": "ipython",
    "version": 3
   },
   "file_extension": ".py",
   "mimetype": "text/x-python",
   "name": "python",
   "nbconvert_exporter": "python",
   "pygments_lexer": "ipython3",
   "version": "3.12.3"
  }
 },
 "nbformat": 4,
 "nbformat_minor": 2
}
