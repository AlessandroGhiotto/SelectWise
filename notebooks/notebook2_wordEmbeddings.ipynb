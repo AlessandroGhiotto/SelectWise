{
 "cells": [
  {
   "cell_type": "markdown",
   "metadata": {},
   "source": [
    "---\n",
    "\n",
    "<div align='center'>\n",
    "<font size=\"+2\">\n",
    "\n",
    "Text Mining and Natural Language Processing  \n",
    "2023-2024\n",
    "\n",
    "<b>SelectWise</b>\n",
    "\n",
    "Alessandro Ghiotto 513944\n",
    "\n",
    "</font>\n",
    "</div>\n",
    "\n",
    "---"
   ]
  },
  {
   "cell_type": "markdown",
   "metadata": {},
   "source": [
    "# Notebook 2 - Word Embeddings:\n",
    "1. Representation by means of static word embeddings:\n",
    "    - Word2Vec\n",
    "    - GloVE\n",
    "    - FastText\n",
    "    - Doc2Vec\n",
    "2. Other ways of combining word embeddings:\n",
    "    - Remove duplicated words\n",
    "    - Word embeddings weighted by their idf score\n",
    "3. Other ways of choosing the answer:\n",
    "    - Siamese Neural Network\n",
    "    - Feed Forward Neural Network\n",
    "\n",
    "\n",
    "---"
   ]
  },
  {
   "cell_type": "markdown",
   "metadata": {},
   "source": [
    "Reload data as in notebook1"
   ]
  },
  {
   "cell_type": "code",
   "execution_count": 1,
   "metadata": {},
   "outputs": [
    {
     "name": "stdout",
     "output_type": "stream",
     "text": [
      "id                                       3E7TUJ2EGCLQNOV1WEAJ2NN9ROPD9K\n",
      "question              What type of water formation is formed by clouds?\n",
      "answerKey                                                             F\n",
      "fact1                 beads of water are formed by water vapor conde...\n",
      "fact2                                   Clouds are made of water vapor.\n",
      "combinedfact                    Beads of water can be formed by clouds.\n",
      "formatted_question    What type of water formation is formed by clou...\n",
      "A                                                                pearls\n",
      "B                                                               streams\n",
      "C                                                                shells\n",
      "D                                                              diamonds\n",
      "E                                                                  rain\n",
      "F                                                                 beads\n",
      "G                                                                cooled\n",
      "H                                                                liquid\n",
      "facts_and_question    beads of water are formed by water vapor conde...\n",
      "Name: 0, dtype: object\n"
     ]
    }
   ],
   "source": [
    "from datasets import load_dataset\n",
    "import pandas as pd\n",
    "import numpy as np\n",
    "import matplotlib.pyplot as plt\n",
    "import seaborn as sns\n",
    "sns.set_theme(style=\"darkgrid\")\n",
    "\n",
    "dataset = load_dataset(\"allenai/qasc\")\n",
    "\n",
    "seed = 8\n",
    "\n",
    "def format_choices(df):\n",
    "    choices = df['choices'].apply(pd.Series)\n",
    "    correct_order = ['A', 'B', 'C', 'D', 'E', 'F', 'G', 'H']\n",
    "    for labels in choices['label']:\n",
    "        if labels != correct_order:\n",
    "            raise ValueError(f\"Labels are not in the correct order: {labels}\")\n",
    "    for i, label in enumerate(correct_order):\n",
    "        df[label] = choices['text'].apply(lambda x: x[i])\n",
    "    df = df.drop(columns=['choices'])\n",
    "    return df\n",
    "\n",
    "n_train_sample = 7323\n",
    "df_train = format_choices(pd.DataFrame(dataset['train'][:n_train_sample]))\n",
    "df_val = format_choices(pd.DataFrame(dataset['train'][n_train_sample:]))\n",
    "df_test = format_choices(pd.DataFrame(dataset['validation']))\n",
    "\n",
    "answerKey_train = df_train['answerKey']\n",
    "answerKey_val = df_val['answerKey']\n",
    "answerKey_test = df_test['answerKey']\n",
    "\n",
    "df_train['facts_and_question'] = df_train['fact1'] + ' ' + df_train['fact2'] + ' ' + df_train['question']\n",
    "df_val['facts_and_question'] = df_val['fact1'] + ' ' + df_val['fact2'] + ' ' + df_val['question']\n",
    "df_test['facts_and_question'] = df_test['fact1'] + ' ' + df_test['fact2'] + ' ' + df_test['question']\n",
    " \n",
    "# Display the updated DataFrame\n",
    "print(df_train.iloc[0])"
   ]
  },
  {
   "cell_type": "markdown",
   "metadata": {},
   "source": [
    "# **Representation by means of static word embeddings**\n",
    "\n",
    "- tokenize the question and the choices with NLTK (+ lowercase, remove stopwords and punctuation). \n",
    "- the representation of the sentence is compute by doing the mean of its word embeddings.\n",
    "- as similarity score I use the cosine similarity of the question vector and the choice vector.\n",
    "- the choice that had the highest cosine similarity is our prediction.\n",
    "\n",
    "Training data for our word embeddings models -> all the sentences from `'question'`, `'fact1'` and `'fact2'` from the train set. (this sentences are preprocessed, lowercase, tokenize...). I will not use the possible choices as training data, since are usually very short, so we don't have a window in which we can use skip-gram or CBoW for training the model (we have no context to predict/we have no context to give as input for predicting the target word).\n",
    "\n",
    "`'facts_and_question'` column will be used for the actual classifiaction task (not for training the mebeddings). Get the representation fo the` 'facts_and_question'`, take the representation of the `choices`, and compute similarity.\n",
    "\n",
    "I will use **skip-gram** instead of **CBoW**, since we don't have so much training data (the sentences aren't very long). Skip-gram by trying to predict the whole context, instead of just predicting the middle word, it creates more \"complete\" word embeddings\n",
    "\n",
    "![picture](../imgs/2_wordembeddings.png)"
   ]
  },
  {
   "cell_type": "code",
   "execution_count": 2,
   "metadata": {},
   "outputs": [
    {
     "data": {
      "text/plain": [
       "facts_and_question    [beads, water, formed, water, vapor, condensin...\n",
       "question                       [type, water, formation, formed, clouds]\n",
       "fact1                  [beads, water, formed, water, vapor, condensing]\n",
       "fact2                                      [clouds, made, water, vapor]\n",
       "A                                                              [pearls]\n",
       "B                                                             [streams]\n",
       "C                                                              [shells]\n",
       "D                                                            [diamonds]\n",
       "E                                                                [rain]\n",
       "F                                                               [beads]\n",
       "G                                                              [cooled]\n",
       "H                                                              [liquid]\n",
       "Name: 0, dtype: object"
      ]
     },
     "execution_count": 2,
     "metadata": {},
     "output_type": "execute_result"
    }
   ],
   "source": [
    "# Prepare the text docs\n",
    "\n",
    "from sklearn.compose import ColumnTransformer\n",
    "from sklearn.preprocessing import FunctionTransformer\n",
    "import nltk\n",
    "from nltk.tokenize import word_tokenize\n",
    "from nltk.corpus import stopwords\n",
    "import string\n",
    "\n",
    "# nltk.download('punkt')\n",
    "# nltk.download('stopwords')\n",
    "stopwords_list = set(stopwords.words('english'))\n",
    "punctuations = set(string.punctuation)\n",
    "\n",
    "def nltk_tokenizer(sentence):\n",
    "    # Lowercase all sentences\n",
    "    sentence = sentence.lower()\n",
    "\n",
    "    # Tokenize using nltk\n",
    "    my_tokenized_tokens = word_tokenize(sentence)\n",
    "\n",
    "    # Removing stop words and punctuations\n",
    "    mytokens = [word for word in my_tokenized_tokens if word not in stopwords_list and word not in punctuations]\n",
    "\n",
    "    return mytokens \n",
    "\n",
    "\n",
    "# Define the custom transformer\n",
    "tokenizer_transformer = FunctionTransformer(lambda x: x.apply(nltk_tokenizer).to_frame(), validate=False)\n",
    "columns_to_tokenize = ['facts_and_question', 'question', 'fact1', 'fact2', 'A', 'B', 'C', 'D', 'E', 'F', 'G', 'H']\n",
    "dataframe_tokenizer = ColumnTransformer(\n",
    "    transformers=[(col, tokenizer_transformer, col) for col in columns_to_tokenize],\n",
    "    remainder='drop'  # drop other columns\n",
    ")\n",
    "\n",
    "# Apply the column transformer to the DataFrame and convert the result to a DataFrame\n",
    "df_train_tokenized = pd.DataFrame(dataframe_tokenizer.fit_transform(df_train), columns=columns_to_tokenize)\n",
    "df_val_tokenized = pd.DataFrame(dataframe_tokenizer.fit_transform(df_val), columns=columns_to_tokenize)\n",
    "\n",
    "df_train_tokenized.iloc[0]"
   ]
  },
  {
   "cell_type": "code",
   "execution_count": 3,
   "metadata": {},
   "outputs": [],
   "source": [
    "# Stack the columns into a single column (our data -> a list of sentences)\n",
    "train_sentences = df_train_tokenized[['question', 'fact1', 'fact2']].stack().reset_index()\n",
    "train_sentences = train_sentences[0] # take the column with the sentences\n",
    "\n",
    "# drop the columns that we have already stacked\n",
    "df_train_tokenized = df_train_tokenized.drop(columns=['question', 'fact1', 'fact2'])"
   ]
  },
  {
   "cell_type": "markdown",
   "metadata": {},
   "source": [
    "## Word2Vec\n",
    "\n",
    "Here we train our model. I will use `k=300` and `window=5`. I have tried different window size, but the results are quite the same."
   ]
  },
  {
   "cell_type": "code",
   "execution_count": 4,
   "metadata": {},
   "outputs": [
    {
     "name": "stdout",
     "output_type": "stream",
     "text": [
      "Training the W2V model on the train sentences, constituted by the questions, fact1 and fact2\n"
     ]
    },
    {
     "data": {
      "text/plain": [
       "<gensim.models.keyedvectors.KeyedVectors at 0x7d2f07e4a210>"
      ]
     },
     "execution_count": 4,
     "metadata": {},
     "output_type": "execute_result"
    }
   ],
   "source": [
    "from gensim.models import Word2Vec\n",
    "from multiprocessing import cpu_count\n",
    "\n",
    "cpu = cpu_count()\n",
    "# print('The virtual instance has {} cpus, that will be used to train the word2vec model'.format(cpu))\n",
    "\n",
    "# We will just get the \"WordVectors\" parameter from the trained Word2Vec model.\n",
    "print(\"Training the W2V model on the train sentences, constituted by the questions, fact1 and fact2\")\n",
    "# sg=1 for using skip-gram\n",
    "W2V_300 = Word2Vec(train_sentences, sg=1, vector_size=300, window=5, min_count=1, workers=cpu, seed=seed)\n",
    "W2V_300.train(train_sentences, total_examples=len(train_sentences), epochs=50)\n",
    "W2V_300_wv = W2V_300.wv # Word embeddings matrix\n",
    "# W2V_300.save('../models/W2V_300.model') # Save the model\n",
    "W2V_300_wv"
   ]
  },
  {
   "cell_type": "code",
   "execution_count": 5,
   "metadata": {},
   "outputs": [
    {
     "name": "stdout",
     "output_type": "stream",
     "text": [
      "[ 0.1874686  -0.07443899 -0.17019576  0.00520933 -0.46233277  0.0578984\n",
      "  0.15393962 -0.06878021 -0.14262929 -0.01634399] ...\n",
      "length of the embedding: 300\n"
     ]
    }
   ],
   "source": [
    "def sent_to_emb(sent, pretrained_vectors):\n",
    "    vector_size = pretrained_vectors.vector_size    # dimension\n",
    "    wv_res = np.zeros(vector_size)    # init the result vector\n",
    "    # print(wv_res)\n",
    "    ctr = 1\n",
    "    for w in sent:    # iterate through our sentence--> w\n",
    "        if w in pretrained_vectors:    # do we have that particular word present in our pretrained vectors\n",
    "            ctr += 1    # we need to count them. Because for average we need to know how many in our sentences\n",
    "            wv_res += pretrained_vectors.get_vector(w)    #  add vector representation of this particular word to result\n",
    "    wv_res =  wv_res/ctr   # evetually added all the vectors associated with each word in the sentence (of the dataset) in\n",
    "    # this final vector--> wv_res....and then divide by the number of words-> ctr\n",
    "    # we could also take just the sum (instead of the average)\n",
    "    return wv_res\n",
    "\n",
    "ex_sentence = df_train_tokenized.iloc[0]['facts_and_question']\n",
    "ex_sentence_emb = sent_to_emb(ex_sentence, W2V_300_wv)\n",
    "print(ex_sentence_emb[:10], '...')\n",
    "print('length of the embedding:', len(ex_sentence_emb))"
   ]
  },
  {
   "cell_type": "markdown",
   "metadata": {},
   "source": [
    "Now we just need to compute the similarity and compare them, this functions are the same from the previous notebook. The way of computinig the similarity is the same, just the representation of our documents is different."
   ]
  },
  {
   "cell_type": "code",
   "execution_count": 7,
   "metadata": {},
   "outputs": [
    {
     "name": "stdout",
     "output_type": "stream",
     "text": [
      "W2V_300 - Word2Vec model trained on our dataset - k=300\n",
      "train Accuracy: 0.7431380581728799\n",
      "train F1 Score: 0.7429122927407739\n",
      "\n",
      "validation Accuracy: 0.55980271270037\n",
      "validation F1 Score: 0.5589637168346118\n"
     ]
    }
   ],
   "source": [
    "import scipy\n",
    "import torch\n",
    "def cosine_similarity_btw2vec(v1, v2):\n",
    "    if scipy.sparse.issparse(v1) and scipy.sparse.issparse(v2):\n",
    "        v1 = v1.toarray().flatten()\n",
    "        v2 = v2.toarray().flatten()\n",
    "    if torch.is_tensor(v1) and torch.is_tensor(v2):\n",
    "        v1 = v1.cpu().detach().numpy().flatten()\n",
    "        v2 = v2.cpu().detach().numpy().flatten()\n",
    "    dot_product = np.dot(v1, v2)\n",
    "    norm_v1 = np.linalg.norm(v1)\n",
    "    norm_v2 = np.linalg.norm(v2)\n",
    "    if norm_v1 == 0 or norm_v2 == 0:\n",
    "        return 0.0 \n",
    "    return dot_product / (norm_v1 * norm_v2)\n",
    "\n",
    "\n",
    "from sklearn.metrics import accuracy_score, f1_score\n",
    "\n",
    "np.random.seed(seed)\n",
    "\n",
    "def cosineSimilarity_predict(df_tokenized, pretrained_vectors, sent_to_emb=sent_to_emb):\n",
    "    ### SENTENCE TO EMBEDDING ### \n",
    "\n",
    "    # apply the function to all the cols of the dataframe\n",
    "    columns_to_embed = ['facts_and_question', 'A', 'B', 'C', 'D', 'E', 'F', 'G', 'H']\n",
    "    df_emb = dict()\n",
    "    for col in columns_to_embed:\n",
    "        df_emb[col] = df_tokenized[col].apply(lambda x: sent_to_emb(x, pretrained_vectors))\n",
    "\n",
    "    ### PREDICT ###\n",
    "\n",
    "    choices = ['A', 'B', 'C', 'D', 'E', 'F', 'G', 'H']\n",
    "    # compute cosine similarity between 'facts_and_question' and each choice column\n",
    "    similarity_scores = {}\n",
    "    for choice in choices:\n",
    "        similarity_scores[choice] = np.array([cosine_similarity_btw2vec(v1, v2) \\\n",
    "                                              for v1, v2 in zip(df_emb['facts_and_question'], df_emb[choice])])\n",
    "    # convert the dictionary to a DataFrame (so we navigate along the rows)\n",
    "    similarity_scores = pd.DataFrame(similarity_scores)\n",
    "    # find the choice with the highest cosine similarity\n",
    "    # since we have a pandas DataFrame, the argmax returns the column name ('A', 'B', 'C', ...)\n",
    "    predicted_choices = similarity_scores.idxmax(axis=1)\n",
    "    return predicted_choices\n",
    "\n",
    "\n",
    "def evaluate_predictions(true_labels, predictions, dataset_label=None):\n",
    "    # dataset_label is a string that specifies the dataset{'train', 'validation', 'test'}\n",
    "    accuracy = accuracy_score(true_labels, predictions)\n",
    "    f1 = f1_score(true_labels, predictions, average='macro')\n",
    "    print(f\"{dataset_label} Accuracy:\", accuracy)\n",
    "    print(f\"{dataset_label} F1 Score:\", f1)\n",
    "    return accuracy, f1\n",
    "\n",
    "# load the model\n",
    "W2V_300 = Word2Vec.load('../models/W2V_300.model')\n",
    "print('W2V_300 - Word2Vec model trained on our dataset - k=300')\n",
    "pred_train_W2V = cosineSimilarity_predict(df_train_tokenized, W2V_300_wv)\n",
    "train_accuracy, train_f1 = evaluate_predictions(answerKey_train, pred_train_W2V, 'train')\n",
    "\n",
    "print('')\n",
    "pred_val_W2V = cosineSimilarity_predict(df_val_tokenized, W2V_300_wv)\n",
    "val_accuracy, val_f1 = evaluate_predictions(answerKey_val, pred_val_W2V, 'validation')"
   ]
  },
  {
   "cell_type": "markdown",
   "metadata": {},
   "source": [
    "We can say that the model is too much overfitted on the training data. Or maybe isn't simply overfitting, but the model just lacks information about the questions which are treated in the samples outside of the training data, since this questions are quite specific (it isn't trained on a simple corpus of text).\n",
    "\n",
    "Now we can try to use `k=100` and see how much this impacts our results"
   ]
  },
  {
   "cell_type": "code",
   "execution_count": 34,
   "metadata": {},
   "outputs": [
    {
     "name": "stdout",
     "output_type": "stream",
     "text": [
      "W2V_100 - Word2Vec model trained on our dataset - k=100\n",
      "train Accuracy: 0.7398607128226137\n",
      "train F1 Score: 0.739679781270694\n",
      "\n",
      "validation Accuracy: 0.5573366214549939\n",
      "validation F1 Score: 0.5568594960247641\n"
     ]
    }
   ],
   "source": [
    "W2V_100 = Word2Vec(train_sentences, sg=1, vector_size=100, window=5, min_count=1, workers=cpu, seed=seed)\n",
    "W2V_100.train(train_sentences, total_examples=len(train_sentences), epochs=50)\n",
    "W2V_100_wv = W2V_100.wv # Word embeddings matrix\n",
    "# W2V_100.save('../models/W2V_100.model') # Save the model\n",
    "\n",
    "W2V_100 = Word2Vec.load('../models/W2V_100.model')\n",
    "print('W2V_100 - Word2Vec model trained on our dataset - k=100')\n",
    "pred_train_W2V = cosineSimilarity_predict(df_train_tokenized, W2V_100_wv)\n",
    "train_accuracy, train_f1 = evaluate_predictions(answerKey_train, pred_train_W2V, 'train')\n",
    "\n",
    "print('')\n",
    "pred_val_W2V = cosineSimilarity_predict(df_val_tokenized, W2V_100_wv)\n",
    "val_accuracy, val_f1 = evaluate_predictions(answerKey_val, pred_val_W2V, 'validation')"
   ]
  },
  {
   "cell_type": "markdown",
   "metadata": {},
   "source": [
    "The results are quite the same, so we don't need too much dimension for capturing all the informations needed for this task. At the end the topic covered in the questions are quite specific (science from elementary school), so it makes sense, we don't have too many words to be placed in our new embedding space\n",
    "\n",
    "Now let's try with some pretrained Word2Vec model -> `'word2vec-google-news-300'`"
   ]
  },
  {
   "cell_type": "code",
   "execution_count": 35,
   "metadata": {},
   "outputs": [
    {
     "name": "stdout",
     "output_type": "stream",
     "text": [
      "['fasttext-wiki-news-subwords-300', 'conceptnet-numberbatch-17-06-300', 'word2vec-ruscorpora-300', 'word2vec-google-news-300', 'glove-wiki-gigaword-50', 'glove-wiki-gigaword-100', 'glove-wiki-gigaword-200', 'glove-wiki-gigaword-300', 'glove-twitter-25', 'glove-twitter-50', 'glove-twitter-100', 'glove-twitter-200', '__testing_word2vec-matrix-synopsis']\n"
     ]
    }
   ],
   "source": [
    "import gensim.downloader\n",
    "# Show all available models in gensim-data\n",
    "print(list(gensim.downloader.info()['models'].keys()))"
   ]
  },
  {
   "cell_type": "code",
   "execution_count": 36,
   "metadata": {},
   "outputs": [
    {
     "name": "stdout",
     "output_type": "stream",
     "text": [
      "word2vec-google-news-300\n",
      "train Accuracy: 0.638536119076881\n",
      "train F1 Score: 0.6384703099957153\n",
      "\n",
      "validation Accuracy: 0.6448828606658447\n",
      "validation F1 Score: 0.6433593317369066\n"
     ]
    }
   ],
   "source": [
    "pretrained_vectors = gensim.downloader.load('word2vec-google-news-300')\n",
    "\n",
    "print('word2vec-google-news-300')\n",
    "pred_train_W2V = cosineSimilarity_predict(df_train_tokenized, pretrained_vectors)\n",
    "train_accuracy, train_f1 = evaluate_predictions(answerKey_train, pred_train_W2V, 'train')\n",
    "print('')\n",
    "pred_val_W2V = cosineSimilarity_predict(df_val_tokenized, pretrained_vectors)\n",
    "val_accuracy, val_f1 = evaluate_predictions(answerKey_val, pred_val_W2V, 'validation')"
   ]
  },
  {
   "cell_type": "markdown",
   "metadata": {},
   "source": [
    "This results are much better, since the accuracy on the validation is much higher than before."
   ]
  },
  {
   "cell_type": "markdown",
   "metadata": {},
   "source": [
    "## GloVe\n",
    "\n",
    "I will try with the following pretrained models -> `'glove-wiki-gigaword-100'` and `'glove-wiki-gigaword-300'`"
   ]
  },
  {
   "cell_type": "code",
   "execution_count": 37,
   "metadata": {},
   "outputs": [
    {
     "name": "stdout",
     "output_type": "stream",
     "text": [
      "glove-wiki-gigaword-100\n",
      "train Accuracy: 0.3971050116072648\n",
      "train F1 Score: 0.3969025434496839\n",
      "\n",
      "validation Accuracy: 0.3797780517879161\n",
      "validation F1 Score: 0.3790592823667349\n",
      "\n",
      " ======================================== \n",
      "\n",
      "glove-wiki-gigaword-300\n",
      "train Accuracy: 0.5309299467431381\n",
      "train F1 Score: 0.5308748827063896\n",
      "\n",
      "validation Accuracy: 0.530209617755857\n",
      "validation F1 Score: 0.5294781020912265\n"
     ]
    }
   ],
   "source": [
    "### K=100 ###\n",
    "pretrained_vectors = gensim.downloader.load('glove-wiki-gigaword-100')\n",
    "\n",
    "print('glove-wiki-gigaword-100')\n",
    "pred_train_GloVe = cosineSimilarity_predict(df_train_tokenized, pretrained_vectors)\n",
    "train_accuracy, train_f1 = evaluate_predictions(answerKey_train, pred_train_GloVe, 'train')\n",
    "print('')\n",
    "pred_val_GloVe = cosineSimilarity_predict(df_val_tokenized, pretrained_vectors)\n",
    "val_accuracy, val_f1 = evaluate_predictions(answerKey_val, pred_val_GloVe, 'validation')\n",
    "\n",
    "### K=300 ###\n",
    "print('\\n', '=='*20, '\\n')\n",
    "pretrained_vectors = gensim.downloader.load('glove-wiki-gigaword-300')\n",
    "\n",
    "print('glove-wiki-gigaword-300')\n",
    "pred_train_GloVe = cosineSimilarity_predict(df_train_tokenized, pretrained_vectors)\n",
    "train_accuracy, train_f1 = evaluate_predictions(answerKey_train, pred_train_GloVe, 'train')\n",
    "print('')\n",
    "pred_val_GloVe = cosineSimilarity_predict(df_val_tokenized, pretrained_vectors)\n",
    "val_accuracy, val_f1 = evaluate_predictions(answerKey_val, pred_val_GloVe, 'validation')"
   ]
  },
  {
   "cell_type": "markdown",
   "metadata": {},
   "source": [
    "Here we can see the difference between `k=100` and `k=300`, this because for capturing all the words in the wikipedia corpus are required much more dimensions."
   ]
  },
  {
   "cell_type": "markdown",
   "metadata": {},
   "source": [
    "## FastText\n",
    "\n",
    "As with Word2Vec, I will train the model on our dataset, and then try some pretrained model.\n",
    "\n",
    "I still use skip-gram (`sg=1`), `k=300` and `k=100`, `window=5`"
   ]
  },
  {
   "cell_type": "code",
   "execution_count": 38,
   "metadata": {},
   "outputs": [
    {
     "name": "stdout",
     "output_type": "stream",
     "text": [
      "FT_100 - FastText model trained on our dataset - k=100\n",
      "train Accuracy: 0.7076334835449952\n",
      "train F1 Score: 0.7075650227740629\n",
      "\n",
      "validation Accuracy: 0.5807644882860666\n",
      "validation F1 Score: 0.5789271112706209\n",
      "\n",
      " ======================================== \n",
      "\n",
      "FT_300 - FastText model trained on our dataset - k=300\n",
      "train Accuracy: 0.7076334835449952\n",
      "train F1 Score: 0.7075244445808855\n",
      "\n",
      "validation Accuracy: 0.5745992601726264\n",
      "validation F1 Score: 0.5727916477822823\n"
     ]
    }
   ],
   "source": [
    "from gensim.models import FastText\n",
    "\n",
    "### K=100 ###\n",
    "FT_100 = FastText(train_sentences, sg=1, vector_size=100, window=5, min_count=1, workers=cpu, seed=seed)\n",
    "FT_100.train(train_sentences, total_examples=len(train_sentences), epochs=50)\n",
    "FT_100_wv = FT_100.wv # Word embeddings matrix\n",
    "# FT_100.save('../models/FT_100.model') # Save the model\n",
    "\n",
    "# FT_100 = Word2Vec.load('../models/FT_100.model')\n",
    "print('FT_100 - FastText model trained on our dataset - k=100')\n",
    "pred_train_FT = cosineSimilarity_predict(df_train_tokenized, FT_100_wv)\n",
    "train_accuracy, train_f1 = evaluate_predictions(answerKey_train, pred_train_FT, 'train')\n",
    "\n",
    "print('')\n",
    "pred_val_FT = cosineSimilarity_predict(df_val_tokenized, FT_100_wv)\n",
    "val_accuracy, val_f1 = evaluate_predictions(answerKey_val, pred_val_FT, 'validation')\n",
    "\n",
    "print('\\n', '=='*20, '\\n')\n",
    "### K=300 ###\n",
    "FT_300 = FastText(train_sentences, sg=1, vector_size=300, window=5, min_count=1, workers=cpu, seed=seed)\n",
    "FT_300.train(train_sentences, total_examples=len(train_sentences), epochs=50)\n",
    "FT_300_wv = FT_300.wv # Word embeddings matrix\n",
    "# FT_300.save('../models/FT_300.model') # Save the model\n",
    "\n",
    "# FT_300 = Word2Vec.load('../models/FT_300.model')\n",
    "print('FT_300 - FastText model trained on our dataset - k=300')\n",
    "pred_train_FT = cosineSimilarity_predict(df_train_tokenized, FT_300_wv)\n",
    "train_accuracy, train_f1 = evaluate_predictions(answerKey_train, pred_train_FT, 'train')\n",
    "\n",
    "print('')\n",
    "pred_val_FT = cosineSimilarity_predict(df_val_tokenized, FT_300_wv)\n",
    "val_accuracy, val_f1 = evaluate_predictions(answerKey_val, pred_val_FT, 'validation')"
   ]
  },
  {
   "cell_type": "markdown",
   "metadata": {},
   "source": [
    "The results with FastText are very similar with the ones obtained with Word2Vec"
   ]
  },
  {
   "cell_type": "code",
   "execution_count": 39,
   "metadata": {},
   "outputs": [
    {
     "name": "stdout",
     "output_type": "stream",
     "text": [
      "fasttext-wiki-news-subwords-300\n",
      "train Accuracy: 0.5230096954799945\n",
      "train F1 Score: 0.522877765835515\n",
      "\n",
      "validation Accuracy: 0.499383477188656\n",
      "validation F1 Score: 0.4975633221474324\n"
     ]
    }
   ],
   "source": [
    "# pretrained model\n",
    "pretrained_vectors = gensim.downloader.load('fasttext-wiki-news-subwords-300')\n",
    "\n",
    "print('fasttext-wiki-news-subwords-300')\n",
    "pred_train_FT = cosineSimilarity_predict(df_train_tokenized, pretrained_vectors)\n",
    "train_accuracy, train_f1 = evaluate_predictions(answerKey_train, pred_train_FT, 'train')\n",
    "print('')\n",
    "pred_val_FT = cosineSimilarity_predict(df_val_tokenized, pretrained_vectors)\n",
    "val_accuracy, val_f1 = evaluate_predictions(answerKey_val, pred_val_FT, 'validation')\n"
   ]
  },
  {
   "cell_type": "markdown",
   "metadata": {},
   "source": [
    "## Doc2Vec\n",
    "The Doc2Vec algorithm represents each document by a dense vector which is trained to predict words in the document. Instead of building word embeddings (and then average them together for getting the representation of the sentence), here we try to directly build the vector representation of the whole document.\n",
    "\n",
    "From the paper: \"Paragraph Vector is capable of constructing representations\n",
    "of input sequences of variable length. It is general and applicable to texts of\n",
    "any length: sentences, paragraphs, and documents\"\n",
    "\n",
    "I will use the **Distributed Bag of Words** training algorithm (instead of Distributed Memory) - `dm=0`. In the DM architecture, the neural network takes two types of inputs:  the context words and a unique document ID. It acts as a memory that remembers what is missing from the current context. Instead with the DistributedBOW I try to predict the words in the paragraph, given the paragraph vector (it has a more complete view of the document, since it doesn't try to predict only what is \"not remembered\" from the words in the document).\n",
    "\n",
    "![Doc2Vec](../imgs/2_doc2vec.png \"Distributed Memory version of Paragraph Vector \")"
   ]
  },
  {
   "cell_type": "code",
   "execution_count": 8,
   "metadata": {},
   "outputs": [
    {
     "name": "stdout",
     "output_type": "stream",
     "text": [
      "Document: ['beads', 'water', 'formed', 'water', 'vapor', 'condensing', 'clouds', 'made', 'water', 'vapor', 'type', 'water', 'formation', 'formed', 'clouds']\n",
      "Vector: [ 0.04933113 -0.09376957  0.09654231  0.3387822  -0.48932883  0.18610093\n",
      "  0.33002773 -0.11212319 -0.31362587 -0.250324  ] ...\n"
     ]
    }
   ],
   "source": [
    "from gensim.models.doc2vec import Doc2Vec, TaggedDocument\n",
    "\n",
    "# create TaggedDocuments from our preprocessed training data\n",
    "# data = train_sentences (list of already tokenized sentences)\n",
    "tagged_data = [TaggedDocument(words=doc, tags=[str(i)]) for i, doc in enumerate(train_sentences)]\n",
    "\n",
    "# train the Doc2vec model\n",
    "model = Doc2Vec(vector_size=100, min_count=1, epochs=50, dm=0, seed=seed)\n",
    "model.build_vocab(tagged_data)\n",
    "model.train(tagged_data,\n",
    "\t\t\ttotal_examples=model.corpus_count,\n",
    "\t\t\tepochs=model.epochs)\n",
    "# save the model\n",
    "# model.save('../models/D2V_100.model')\n",
    "\n",
    "# get the document vector for an example\n",
    "# we use the infer_vector method\n",
    "example_sentence = df_train_tokenized.iloc[0]['facts_and_question']\n",
    "document_vector = model.infer_vector(example_sentence)\n",
    "print(\"Document:\", example_sentence)\n",
    "print(\"Vector:\", document_vector[:10], \"...\")\n"
   ]
  },
  {
   "cell_type": "code",
   "execution_count": 9,
   "metadata": {},
   "outputs": [
    {
     "name": "stdout",
     "output_type": "stream",
     "text": [
      "Doc2Vec - Doc2Vec model trained on our dataset - k=100\n",
      "train Accuracy: 0.7430015021166189\n",
      "train F1 Score: 0.742873374407992\n",
      "validation Accuracy: 0.6313193588162762\n",
      "validation F1 Score: 0.629900807290217\n"
     ]
    }
   ],
   "source": [
    "def doc2vec_predict(df_tokenized, model):\n",
    "    ### SENTENCE TO EMBEDDING ### \n",
    "\n",
    "    # get the paragraph vector, for each doc for any cols of the dataframe\n",
    "    columns_to_embed = ['facts_and_question', 'A', 'B', 'C', 'D', 'E', 'F', 'G', 'H']\n",
    "    df_emb = dict()\n",
    "    for col in columns_to_embed:\n",
    "        df_emb[col] = df_tokenized[col].apply(lambda x: model.infer_vector(x))\n",
    "\n",
    "    ### PREDICT ###\n",
    "\n",
    "    choices = ['A', 'B', 'C', 'D', 'E', 'F', 'G', 'H']\n",
    "    # compute cosine similarity between 'facts_and_question' and each choice column\n",
    "    similarity_scores = {}\n",
    "    for choice in choices:\n",
    "        similarity_scores[choice] = np.array([cosine_similarity_btw2vec(v1, v2) \\\n",
    "                                              for v1, v2 in zip(df_emb['facts_and_question'], df_emb[choice])])\n",
    "    # convert the dictionary to a DataFrame (so we navigate along the rows)\n",
    "    similarity_scores = pd.DataFrame(similarity_scores)\n",
    "    # find the choice with the highest cosine similarity\n",
    "    # since we have a pandas DataFrame, the argmax returns the column name ('A', 'B', 'C', ...)\n",
    "    predicted_choices = similarity_scores.idxmax(axis=1)\n",
    "    return predicted_choices\n",
    "\n",
    "# load the model\n",
    "model = Doc2Vec.load('../models/D2V_100.model')\n",
    "\n",
    "print('Doc2Vec - Doc2Vec model trained on our dataset - k=100')\n",
    "pred_train_D2V = doc2vec_predict(df_train_tokenized, model)\n",
    "train_accuracy, train_f1 = evaluate_predictions(answerKey_train, pred_train_D2V, 'train')\n",
    "pred_val_D2V = doc2vec_predict(df_val_tokenized, model)\n",
    "val_accuracy, val_f1 = evaluate_predictions(answerKey_val, pred_val_D2V, 'validation')\n"
   ]
  },
  {
   "cell_type": "code",
   "execution_count": 42,
   "metadata": {},
   "outputs": [
    {
     "name": "stdout",
     "output_type": "stream",
     "text": [
      "Doc2Vec - Doc2Vec model trained on our dataset - k=300\n",
      "train Accuracy: 0.7270244435340707\n",
      "train F1 Score: 0.7269055066732986\n",
      "validation Accuracy: 0.6140567200986436\n",
      "validation F1 Score: 0.6133071141639248\n"
     ]
    }
   ],
   "source": [
    "# k=300 \n",
    "model = Doc2Vec(vector_size=300, min_count=1, epochs=50, dm=0, seed=seed)\n",
    "model.build_vocab(tagged_data)\n",
    "model.train(tagged_data,\n",
    "            total_examples=model.corpus_count,\n",
    "            epochs=model.epochs)\n",
    "# save the model\n",
    "# model.save('../models/D2V_300.model')\n",
    "\n",
    "# load the model\n",
    "model = Doc2Vec.load('../models/D2V_300.model')\n",
    "\n",
    "print('Doc2Vec - Doc2Vec model trained on our dataset - k=300')\n",
    "pred_train_D2V = doc2vec_predict(df_train_tokenized, model)\n",
    "train_accuracy, train_f1 = evaluate_predictions(answerKey_train, pred_train_D2V, 'train')\n",
    "pred_val_D2V = doc2vec_predict(df_val_tokenized, model)\n",
    "val_accuracy, val_f1 = evaluate_predictions(answerKey_val, pred_val_D2V, 'validation')"
   ]
  },
  {
   "cell_type": "markdown",
   "metadata": {},
   "source": [
    "The results are very similar wrt the Word2Vec model"
   ]
  },
  {
   "cell_type": "code",
   "execution_count": 43,
   "metadata": {},
   "outputs": [
    {
     "name": "stdout",
     "output_type": "stream",
     "text": [
      "Doc2Vec - Doc2Vec model trained on our dataset - k=300\n",
      "Distributed Memory - dm=1\n",
      "train Accuracy: 0.5593336064454458\n",
      "train F1 Score: 0.5592300680814779\n",
      "validation Accuracy: 0.4217016029593095\n",
      "validation F1 Score: 0.42060832072578114\n"
     ]
    }
   ],
   "source": [
    "# k=300 WITH DISTRIBUTED MEMORY\n",
    "model = Doc2Vec(vector_size=300, min_count=1, epochs=50, dm=1, seed=seed)\n",
    "model.build_vocab(tagged_data)\n",
    "model.train(tagged_data,\n",
    "            total_examples=model.corpus_count,\n",
    "            epochs=model.epochs)\n",
    "# save the model\n",
    "# model.save('../models/D2V_DM_300.model')\n",
    "\n",
    "# load the model\n",
    "model = Doc2Vec.load('../models/D2V_DM_300.model')\n",
    "\n",
    "print('Doc2Vec - Doc2Vec model trained on our dataset - k=300')\n",
    "print('Distributed Memory - dm=1')\n",
    "pred_train_D2V = doc2vec_predict(df_train_tokenized, model)\n",
    "train_accuracy, train_f1 = evaluate_predictions(answerKey_train, pred_train_D2V, 'train')\n",
    "pred_val_D2V = doc2vec_predict(df_val_tokenized, model)\n",
    "val_accuracy, val_f1 = evaluate_predictions(answerKey_val, pred_val_D2V, 'validation')"
   ]
  },
  {
   "cell_type": "markdown",
   "metadata": {},
   "source": [
    "With the DM training algorithm we get worse results. I think because the DM architecture use the paragraph vector for adding information to the single word vectors. Instead in the DBoW the paragraph vector is trained for containing the information about all the words in the sentence."
   ]
  },
  {
   "cell_type": "markdown",
   "metadata": {},
   "source": [
    "---\n",
    "# **Other ways of combining word embeddings**\n",
    "\n",
    "I will use the `'word2vec-google-news-300'` pretrained embeddings, which led to the best accuracy score on the validation set (acc=0.73) with the previous method.\n",
    "\n",
    "Before I just averaged the word embeddings, for building the representation of the whole sentence, but we can do something more..."
   ]
  },
  {
   "cell_type": "code",
   "execution_count": 44,
   "metadata": {},
   "outputs": [
    {
     "name": "stdout",
     "output_type": "stream",
     "text": [
      "word2vec-google-news-300\n"
     ]
    }
   ],
   "source": [
    "# pretrained model\n",
    "import gensim.downloader\n",
    "\n",
    "pretrained_W2V = gensim.downloader.load('word2vec-google-news-300')\n",
    "print('word2vec-google-news-300')"
   ]
  },
  {
   "cell_type": "markdown",
   "metadata": {},
   "source": [
    "## Remove duplicated words\n",
    "\n",
    "Here I try to keep just a set of the words present in each string of text."
   ]
  },
  {
   "cell_type": "code",
   "execution_count": 45,
   "metadata": {},
   "outputs": [
    {
     "name": "stdout",
     "output_type": "stream",
     "text": [
      "train Accuracy: 0.7723610542127544\n",
      "train F1 Score: 0.7722396179087653\n",
      "\n",
      "validation Accuracy: 0.7805178791615289\n",
      "validation F1 Score: 0.7793677579958391\n"
     ]
    }
   ],
   "source": [
    "df_train_noDuplicates = df_train_tokenized.copy()\n",
    "df_val_noDuplicates = df_val_tokenized.copy()\n",
    "\n",
    "# remove duplicated words from each sentence\n",
    "def remove_duplicates(df):\n",
    "    all_cols = df.columns\n",
    "    for col in all_cols:\n",
    "        df[col] = df[col].apply(lambda x: list(set(x)))\n",
    "    return df\n",
    "\n",
    "df_train_noDuplicates = remove_duplicates(df_train_noDuplicates)\n",
    "df_val_noDuplicates = remove_duplicates(df_val_noDuplicates)\n",
    "\n",
    "pred_train_W2V = cosineSimilarity_predict(df_train_noDuplicates, pretrained_W2V)\n",
    "train_accuracy, train_f1 = evaluate_predictions(answerKey_train, pred_train_W2V, 'train')\n",
    "print('')\n",
    "pred_val_W2V = cosineSimilarity_predict(df_val_noDuplicates, pretrained_W2V)\n",
    "val_accuracy, val_f1 = evaluate_predictions(answerKey_val, pred_val_W2V, 'validation')"
   ]
  },
  {
   "cell_type": "markdown",
   "metadata": {},
   "source": [
    "The results are much better (from 0.644 to 0.780 of accuracy on validation).\n",
    "\n",
    "It's really interesting how doing so little considerably increases the performance of the model."
   ]
  },
  {
   "cell_type": "markdown",
   "metadata": {},
   "source": [
    "## Word embeddings weighted by their idf score\n",
    "\n",
    "I used the Inverse Document Frequency (IDF) as the weights of the embeddings (when I'm going to combine them together), to separate the common and the uncommon words. Before we have simply used equal weights for each word.\n",
    "\n",
    "First with also the duplicated words"
   ]
  },
  {
   "cell_type": "code",
   "execution_count": 46,
   "metadata": {},
   "outputs": [
    {
     "data": {
      "image/png": "[encoded data removed]",
      "text/plain": [
       "<Figure size 640x480 with 1 Axes>"
      ]
     },
     "metadata": {},
     "output_type": "display_data"
    },
    {
     "name": "stdout",
     "output_type": "stream",
     "text": [
      "IDF scores average: 7.77556331644265\n",
      "IDF scores median: 8.205628178501124\n",
      "IDF scores min: 2.057159882583478\n",
      "IDF scores max: 8.89877535906107\n"
     ]
    }
   ],
   "source": [
    "import math\n",
    "from collections import Counter\n",
    "\n",
    "# get the IDF scores for each word\n",
    "# IDF(word) = log(N / count(word in documents))\n",
    "# I will use the IDF scores computed on the training set (just the 'facts_and_question' column)\n",
    "def calculate_idf(documents):\n",
    "    N = len(documents)\n",
    "    all_words = set()\n",
    "    word_document_count = Counter() # count the number of documents that contain each word\n",
    "    \n",
    "    # Tokenize the documents and update the word_document_count\n",
    "    for document in documents:\n",
    "        words = set(document) # remove duplicates\n",
    "        all_words.update(words)\n",
    "        word_document_count.update(words) # increment the count for each word\n",
    "    \n",
    "    # Calculate the IDF score for each word\n",
    "    idf_scores = {}\n",
    "    for word in all_words:\n",
    "        idf_scores[word] = math.log(N / word_document_count[word])\n",
    "    \n",
    "    return idf_scores\n",
    "\n",
    "idf_scores = calculate_idf(df_train_tokenized['facts_and_question'])\n",
    "\n",
    "# KDE plot of the IDF scores\n",
    "sns.kdeplot(list(idf_scores.values()), fill=True, color='green')\n",
    "plt.title('IDF scores distribution')\n",
    "plt.xlabel('IDF score')\n",
    "plt.ylabel('Density')\n",
    "plt.show()\n",
    "print('IDF scores average:', np.mean(list(idf_scores.values())))\n",
    "print('IDF scores median:', np.median(list(idf_scores.values())))\n",
    "print('IDF scores min:', np.min(list(idf_scores.values())))\n",
    "print('IDF scores max:', np.max(list(idf_scores.values())))\n",
    "\n",
    "idf_scores['UNK'] = np.median(list(idf_scores.values()))"
   ]
  },
  {
   "cell_type": "markdown",
   "metadata": {},
   "source": [
    "I will use the median as an estimator for the unknown words. Is close to the max value of the idf scores, so it makes sense since an unknown word is quite rare..."
   ]
  },
  {
   "cell_type": "code",
   "execution_count": 47,
   "metadata": {},
   "outputs": [
    {
     "name": "stdout",
     "output_type": "stream",
     "text": [
      "word2vec-google-news-300 - IDF weighted - with duplicates\n",
      "\n"
     ]
    },
    {
     "name": "stdout",
     "output_type": "stream",
     "text": [
      "train Accuracy: 0.6707633483544995\n",
      "train F1 Score: 0.6706853387365271\n",
      "\n",
      "validation Accuracy: 0.6966707768187423\n",
      "validation F1 Score: 0.6953039670245317\n"
     ]
    }
   ],
   "source": [
    "def sent_to_emb_IDFweighted(sent, pretrained_vectors, idf_scores):\n",
    "    vector_size = pretrained_vectors.vector_size \n",
    "    wv_res = np.zeros(vector_size)\n",
    "    for w in sent:\n",
    "        if w in pretrained_vectors:\n",
    "            # add the word vector multiplied by the IDF score\n",
    "            # if the word is not in the IDF scores, we use the median value (stored in 'UNK')\n",
    "            wv_res += idf_scores.get(w, idf_scores['UNK']) * pretrained_vectors.get_vector(w)\n",
    "    return wv_res\n",
    "\n",
    "# I use this new weighted function to combine together the word vectors\n",
    "sent_to_emb_IDFweighted_IDF = lambda x, y: sent_to_emb_IDFweighted(x, y, idf_scores)\n",
    "\n",
    "print('word2vec-google-news-300 - IDF weighted - with duplicates\\n')\n",
    "pred_train_W2V = cosineSimilarity_predict(df_train_tokenized, pretrained_W2V, \n",
    "                                          sent_to_emb=sent_to_emb_IDFweighted_IDF)\n",
    "train_accuracy, train_f1 = evaluate_predictions(answerKey_train, pred_train_W2V, 'train')\n",
    "\n",
    "print('')\n",
    "pred_val_W2V = cosineSimilarity_predict(df_val_tokenized, pretrained_W2V, \n",
    "                                        sent_to_emb=sent_to_emb_IDFweighted_IDF)\n",
    "val_accuracy, val_f1 = evaluate_predictions(answerKey_val, pred_val_W2V, 'validation')\n"
   ]
  },
  {
   "cell_type": "markdown",
   "metadata": {},
   "source": [
    "Now I try without duplicated words"
   ]
  },
  {
   "cell_type": "code",
   "execution_count": 48,
   "metadata": {},
   "outputs": [
    {
     "name": "stdout",
     "output_type": "stream",
     "text": [
      "word2vec-google-news-300 - IDF weighted - without duplicates\n",
      "\n",
      "train Accuracy: 0.781919978151031\n",
      "train F1 Score: 0.781833493211076\n",
      "\n",
      "validation Accuracy: 0.7990135635018496\n",
      "validation F1 Score: 0.7983010189814015\n"
     ]
    }
   ],
   "source": [
    "print('word2vec-google-news-300 - IDF weighted - without duplicates\\n')\n",
    "pred_train_W2V = cosineSimilarity_predict(df_train_noDuplicates, pretrained_W2V,\n",
    "                                            sent_to_emb=sent_to_emb_IDFweighted_IDF)\n",
    "train_accuracy, train_f1 = evaluate_predictions(answerKey_train, pred_train_W2V, 'train')\n",
    "print('')\n",
    "pred_val_W2V = cosineSimilarity_predict(df_val_noDuplicates, pretrained_W2V,\n",
    "                                        sent_to_emb=sent_to_emb_IDFweighted_IDF)\n",
    "val_accuracy, val_f1 = evaluate_predictions(answerKey_val, pred_val_W2V, 'validation')"
   ]
  },
  {
   "cell_type": "markdown",
   "metadata": {},
   "source": [
    "The results are the same of the ones obtained with uniform weights (and no duplicated words)."
   ]
  },
  {
   "cell_type": "markdown",
   "metadata": {},
   "source": [
    "---\n",
    "# **Other ways of choosing the answer**\n",
    "\n",
    "As representation of the documents I use the average of the word embeddings of the words in the sentence, without the duplicated words.\n",
    "\n",
    "Before I have simply taken the choice with the maximum similarity with the question, but we can for example train a neural network which takes as input the question and the choice."
   ]
  },
  {
   "cell_type": "markdown",
   "metadata": {},
   "source": [
    "## Siamese Neural Network\n",
    "\n",
    "Instead of just computing similarity between the question and the choices, train a SiameseNN to tell a part which choice is related to the question. We will learn the NN in such a way that will make closer as output the question and the correct choice.\n",
    "\n",
    "I will not build a full NN (for example using LSTM with as inputs the raw data), I will just use linear layers for compering the output given by the Word2Vec embeddings. \n",
    "\n",
    "I will use the `torch.nn.CosineEmbeddingLoss`, which maximize the cosine similarity of two inputs when $y=1$, and minimize it if $y=-1$.\n",
    "\n",
    "As input I will give directly the vectors obtained from embedding the sentences with the pretrained W2V model `'word2vec-google-news-300'`\n",
    "\n",
    "![picture](../imgs/2_siameseoutput.png)"
   ]
  },
  {
   "cell_type": "markdown",
   "metadata": {},
   "source": [
    "Training Data: create 8 samples for each question, one for each choice. Ss label I use 1 if the choice is correct, -1 otherwise. I will give for semplicity as input directly the embeddings (so I don't need to pad the sentences)"
   ]
  },
  {
   "cell_type": "code",
   "execution_count": 49,
   "metadata": {},
   "outputs": [
    {
     "name": "stdout",
     "output_type": "stream",
     "text": [
      "                                  facts_and_question      choice label\n",
      "0  [formation, clouds, condensing, made, type, va...    [pearls]    -1\n",
      "1  [formation, clouds, condensing, made, type, va...   [streams]    -1\n",
      "2  [formation, clouds, condensing, made, type, va...    [shells]    -1\n",
      "3  [formation, clouds, condensing, made, type, va...  [diamonds]    -1\n",
      "4  [formation, clouds, condensing, made, type, va...      [rain]    -1\n",
      "5  [formation, clouds, condensing, made, type, va...     [beads]     1\n",
      "6  [formation, clouds, condensing, made, type, va...    [cooled]    -1\n",
      "7  [formation, clouds, condensing, made, type, va...    [liquid]    -1 \n",
      "\n"
     ]
    },
    {
     "name": "stderr",
     "output_type": "stream",
     "text": [
      "/home/max/.pyenv/versions/3.12.3/envs/nlp-env/lib/python3.12/site-packages/torch/utils/_device.py:79: UserWarning: Creating a tensor from a list of numpy.ndarrays is extremely slow. Please consider converting the list to a single numpy.ndarray with numpy.array() before converting to a tensor. (Triggered internally at ../torch/csrc/utils/tensor_new.cpp:278.)\n",
      "  return func(*args, **kwargs)\n"
     ]
    },
    {
     "name": "stdout",
     "output_type": "stream",
     "text": [
      "shape data[\"facts_and_question\"]:  torch.Size([58584, 300])\n",
      "tensor([ 0.0006,  0.0729,  0.0545, -0.0170, -0.1291, -0.0783, -0.0185, -0.1949,\n",
      "         0.0500,  0.1072], device='cuda:0', dtype=torch.float64) ...\n",
      "tensor([-0.0483, -0.0281,  0.0107,  0.0869,  0.0566, -0.0444, -0.0146, -0.2422,\n",
      "        -0.0850,  0.2559], device='cuda:0', dtype=torch.float64) ...\n",
      "tensor(-1, device='cuda:0')\n"
     ]
    }
   ],
   "source": [
    "import random\n",
    "import numpy as np\n",
    "import torch\n",
    "\n",
    "def set_seed(seed):\n",
    "    random.seed(seed)\n",
    "    np.random.seed(seed)\n",
    "    torch.random.manual_seed(seed)\n",
    "    torch.manual_seed(seed)\n",
    "    torch.cuda.manual_seed_all(seed)\n",
    "\n",
    "# set the seed\n",
    "seed = 8\n",
    "set_seed(seed)\n",
    "\n",
    "# set gpu as default device and float32 as default dtype\n",
    "mydevice = torch.device('cuda' if torch.cuda.is_available() else 'cpu')\n",
    "torch.set_default_device(mydevice) # default tensor device\n",
    "torch.set_default_dtype(torch.float32) # default tensor dtype\n",
    "\n",
    "#################################################################################\n",
    "\n",
    "# first we create the training data\n",
    "def create_training_data(df):\n",
    "    # create 8 samples for each question\n",
    "    df_train_nn = pd.DataFrame(columns=['facts_and_question', 'choice', 'label'])\n",
    "    for i, row in df.iterrows():\n",
    "        for choice in ['A', 'B', 'C', 'D', 'E', 'F', 'G', 'H']:\n",
    "            # create a new row\n",
    "            new_row = {}\n",
    "            new_row['facts_and_question'] = row['facts_and_question']\n",
    "            new_row['choice'] = row[choice]\n",
    "            new_row['label'] = 1 if row['answerKey'] == choice else -1\n",
    "            df_train_nn = pd.concat([df_train_nn, pd.DataFrame([new_row])], ignore_index=True)\n",
    "    return df_train_nn\n",
    "\n",
    "# data: tokenized data, w/o duplicated words\n",
    "df_train_nn = df_train_noDuplicates.copy()\n",
    "df_train_nn['answerKey'] = answerKey_train\n",
    "df_train_nn = create_training_data(df_train_nn)\n",
    "print(df_train_nn.head(8), '\\n')\n",
    "\n",
    "# get the Word2Vec embeddings\n",
    "data_train_nn = {}\n",
    "data_train_nn['facts_and_question'] = torch.tensor(df_train_nn['facts_and_question'].apply(lambda x: sent_to_emb(x, pretrained_W2V)))\n",
    "data_train_nn['choice'] = torch.tensor(df_train_nn['choice'].apply(lambda x: sent_to_emb(x, pretrained_W2V)))\n",
    "data_train_nn['label'] = torch.tensor(df_train_nn['label'])\n",
    "\n",
    "print('shape data[\"facts_and_question\"]: ', data_train_nn['facts_and_question'].shape)\n",
    "print(data_train_nn['facts_and_question'][0][:10], '...')\n",
    "print(data_train_nn['choice'][0][:10], '...')\n",
    "print(data_train_nn['label'][0])"
   ]
  },
  {
   "cell_type": "code",
   "execution_count": 50,
   "metadata": {},
   "outputs": [],
   "source": [
    "import torch\n",
    "import torch.nn as nn\n",
    "import torch.nn.functional as F\n",
    "\n",
    "class SiameseNN(nn.Module):\n",
    "    def __init__(self, input_size):\n",
    "        super(SiameseNN, self).__init__()\n",
    "        self.fc1 = nn.Linear(input_size, 512)\n",
    "        self.bn1 = nn.BatchNorm1d(512)\n",
    "        self.dropout1 = nn.Dropout(0.5)\n",
    "        \n",
    "        self.fc2 = nn.Linear(512, 256)\n",
    "        self.bn2 = nn.BatchNorm1d(256)\n",
    "        self.dropout2 = nn.Dropout(0.5)\n",
    "        \n",
    "        self.fc3 = nn.Linear(256, 128)\n",
    "        self.bn3 = nn.BatchNorm1d(128)\n",
    "        self.dropout3 = nn.Dropout(0.5)\n",
    "        \n",
    "        self.fc4 = nn.Linear(128, 64)\n",
    "        self.bn4 = nn.BatchNorm1d(64)\n",
    "        self.dropout4 = nn.Dropout(0.5)\n",
    "        \n",
    "        self.fc5 = nn.Linear(64, 32)\n",
    "        \n",
    "    def forward_once(self, x):\n",
    "        \"\"\"Forward pass for one of the sentences -> MLP\"\"\"\n",
    "        # Ensure input is 2D\n",
    "        if x.dim() == 1:\n",
    "            x = x.unsqueeze(0)\n",
    "        \n",
    "        # the x input is already the embedding of the sentence (Word2Vec embedding)\n",
    "        x = F.sigmoid(self.bn1(self.fc1(x)))\n",
    "        x = self.dropout1(x)\n",
    "        \n",
    "        x = F.sigmoid(self.bn2(self.fc2(x)))\n",
    "        x = self.dropout2(x)\n",
    "        \n",
    "        x = F.sigmoid(self.bn3(self.fc3(x)))\n",
    "        x = self.dropout3(x)\n",
    "        \n",
    "        x = F.sigmoid(self.bn4(self.fc4(x)))\n",
    "        x = self.dropout4(x)\n",
    "        \n",
    "        x = self.fc5(x)\n",
    "        return x\n",
    "    \n",
    "    def forward(self, input1, input2):\n",
    "        \"\"\"\n",
    "        Forward pass for both sentences.\n",
    "        The MLP is shared between the two sentences.\n",
    "        \"\"\"\n",
    "        output1 = self.forward_once(input1)\n",
    "        output2 = self.forward_once(input2)\n",
    "        return output1, output2\n",
    "   "
   ]
  },
  {
   "cell_type": "code",
   "execution_count": 51,
   "metadata": {},
   "outputs": [
    {
     "name": "stdout",
     "output_type": "stream",
     "text": [
      "Epoch 0, iter 0   - train_loss 0.4638, val_loss 0.8808\n",
      "Epoch 0, iter 100 - train_loss 0.2321, val_loss 0.8734\n",
      "Epoch 0, iter 200 - train_loss 0.232 , val_loss 0.8068\n",
      "Epoch 1, iter 0   - train_loss 0.1834, val_loss 0.7415\n",
      "Epoch 1, iter 100 - train_loss 0.1655, val_loss 0.4023\n",
      "Epoch 1, iter 200 - train_loss 0.1819, val_loss 0.3251\n",
      "Epoch 2, iter 0   - train_loss 0.2204, val_loss 0.3115\n",
      "Epoch 2, iter 100 - train_loss 0.1797, val_loss 0.3197\n",
      "Epoch 2, iter 200 - train_loss 0.2149, val_loss 0.3497\n",
      "Epoch 3, iter 0   - train_loss 0.1917, val_loss 0.3187\n",
      "Epoch 3, iter 100 - train_loss 0.203 , val_loss 0.3879\n",
      "Epoch 3, iter 200 - train_loss 0.195 , val_loss 0.3537\n",
      "Epoch 4, iter 0   - train_loss 0.1824, val_loss 0.3346\n",
      "Epoch 4, iter 100 - train_loss 0.1972, val_loss 0.3928\n",
      "Epoch 4, iter 200 - train_loss 0.1766, val_loss 0.3211\n",
      "Epoch 5, iter 0   - train_loss 0.2044, val_loss 0.3583\n",
      "Epoch 5, iter 100 - train_loss 0.1817, val_loss 0.3607\n",
      "Epoch 5, iter 200 - train_loss 0.1827, val_loss 0.3115\n",
      "Epoch 6, iter 0   - train_loss 0.1505, val_loss 0.2873\n",
      "Epoch 6, iter 100 - train_loss 0.1897, val_loss 0.3638\n",
      "Epoch 6, iter 200 - train_loss 0.2021, val_loss 0.3049\n",
      "Epoch 7, iter 0   - train_loss 0.1917, val_loss 0.345\n",
      "Epoch 7, iter 100 - train_loss 0.1911, val_loss 0.3611\n",
      "Epoch 7, iter 200 - train_loss 0.1932, val_loss 0.3168\n",
      "Epoch 8, iter 0   - train_loss 0.1936, val_loss 0.3516\n",
      "Epoch 8, iter 100 - train_loss 0.1916, val_loss 0.3496\n",
      "Epoch 8, iter 200 - train_loss 0.1892, val_loss 0.3045\n",
      "Epoch 9, iter 0   - train_loss 0.2049, val_loss 0.3839\n",
      "Epoch 9, iter 100 - train_loss 0.1906, val_loss 0.3474\n",
      "Epoch 9, iter 200 - train_loss 0.2033, val_loss 0.3941\n",
      "Epoch 10, iter 0   - train_loss 0.2008, val_loss 0.3382\n",
      "Epoch 10, iter 100 - train_loss 0.1964, val_loss 0.2998\n",
      "Epoch 10, iter 200 - train_loss 0.2214, val_loss 0.3551\n",
      "Epoch 11, iter 0   - train_loss 0.1818, val_loss 0.3644\n",
      "Epoch 11, iter 100 - train_loss 0.182 , val_loss 0.346\n",
      "Epoch 11, iter 200 - train_loss 0.1547, val_loss 0.3053\n",
      "Epoch 12, iter 0   - train_loss 0.2119, val_loss 0.3257\n",
      "Epoch 12, iter 100 - train_loss 0.1967, val_loss 0.3497\n",
      "Epoch 12, iter 200 - train_loss 0.1752, val_loss 0.3463\n",
      "Epoch 13, iter 0   - train_loss 0.2075, val_loss 0.3051\n",
      "Epoch 13, iter 100 - train_loss 0.2062, val_loss 0.3072\n",
      "Epoch 13, iter 200 - train_loss 0.1793, val_loss 0.3246\n",
      "Epoch 14, iter 0   - train_loss 0.2162, val_loss 0.3666\n",
      "Epoch 14, iter 100 - train_loss 0.145 , val_loss 0.3368\n",
      "Epoch 14, iter 200 - train_loss 0.1787, val_loss 0.3317\n",
      "Epoch 15, iter 0   - train_loss 0.2048, val_loss 0.335\n",
      "Epoch 15, iter 100 - train_loss 0.1767, val_loss 0.3718\n",
      "Epoch 15, iter 200 - train_loss 0.1532, val_loss 0.3246\n",
      "Epoch 16, iter 0   - train_loss 0.1842, val_loss 0.3832\n",
      "Epoch 16, iter 100 - train_loss 0.2138, val_loss 0.3386\n",
      "Epoch 16, iter 200 - train_loss 0.1584, val_loss 0.3447\n",
      "Epoch 17, iter 0   - train_loss 0.2239, val_loss 0.354\n",
      "Epoch 17, iter 100 - train_loss 0.1813, val_loss 0.3336\n",
      "Epoch 17, iter 200 - train_loss 0.1703, val_loss 0.3024\n",
      "Epoch 18, iter 0   - train_loss 0.1632, val_loss 0.341\n",
      "Epoch 18, iter 100 - train_loss 0.1624, val_loss 0.3664\n",
      "Epoch 18, iter 200 - train_loss 0.1711, val_loss 0.388\n",
      "Epoch 19, iter 0   - train_loss 0.158 , val_loss 0.3058\n",
      "Epoch 19, iter 100 - train_loss 0.2081, val_loss 0.2833\n",
      "Epoch 19, iter 200 - train_loss 0.1716, val_loss 0.3202\n",
      "Epoch 20, iter 0   - train_loss 0.202 , val_loss 0.3403\n",
      "Epoch 20, iter 100 - train_loss 0.1898, val_loss 0.3142\n",
      "Epoch 20, iter 200 - train_loss 0.1513, val_loss 0.3012\n",
      "Epoch 21, iter 0   - train_loss 0.1683, val_loss 0.3405\n",
      "Epoch 21, iter 100 - train_loss 0.192 , val_loss 0.3148\n",
      "Epoch 21, iter 200 - train_loss 0.2211, val_loss 0.3461\n",
      "Epoch 22, iter 0   - train_loss 0.1899, val_loss 0.3113\n",
      "Epoch 22, iter 100 - train_loss 0.1994, val_loss 0.3071\n",
      "Epoch 22, iter 200 - train_loss 0.1806, val_loss 0.3149\n",
      "Epoch 23, iter 0   - train_loss 0.1926, val_loss 0.3149\n",
      "Epoch 23, iter 100 - train_loss 0.157 , val_loss 0.3318\n",
      "Epoch 23, iter 200 - train_loss 0.1635, val_loss 0.3201\n",
      "Epoch 24, iter 0   - train_loss 0.1751, val_loss 0.2816\n",
      "Epoch 24, iter 100 - train_loss 0.175 , val_loss 0.3285\n",
      "Epoch 24, iter 200 - train_loss 0.2071, val_loss 0.3743\n",
      "Epoch 25, iter 0   - train_loss 0.1962, val_loss 0.3173\n",
      "Epoch 25, iter 100 - train_loss 0.138 , val_loss 0.3079\n",
      "Epoch 25, iter 200 - train_loss 0.1763, val_loss 0.2959\n",
      "Epoch 26, iter 0   - train_loss 0.2134, val_loss 0.2905\n",
      "Epoch 26, iter 100 - train_loss 0.1864, val_loss 0.3038\n",
      "Epoch 26, iter 200 - train_loss 0.2078, val_loss 0.3379\n",
      "Epoch 27, iter 0   - train_loss 0.1948, val_loss 0.2829\n",
      "Epoch 27, iter 100 - train_loss 0.1705, val_loss 0.2794\n",
      "Epoch 27, iter 200 - train_loss 0.1643, val_loss 0.308\n",
      "Epoch 28, iter 0   - train_loss 0.1781, val_loss 0.2865\n",
      "Epoch 28, iter 100 - train_loss 0.1553, val_loss 0.307\n",
      "Epoch 28, iter 200 - train_loss 0.2191, val_loss 0.3285\n",
      "Epoch 29, iter 0   - train_loss 0.2221, val_loss 0.2947\n",
      "Epoch 29, iter 100 - train_loss 0.1771, val_loss 0.3067\n",
      "Epoch 29, iter 200 - train_loss 0.1704, val_loss 0.3358\n"
     ]
    },
    {
     "data": {
      "image/png": "[encoded data removed]",
      "text/plain": [
       "<Figure size 640x480 with 1 Axes>"
      ]
     },
     "metadata": {},
     "output_type": "display_data"
    }
   ],
   "source": [
    "# HYPERPARAMETERS\n",
    "embedding_dim = pretrained_W2V.vector_size\n",
    "learning_rate = 1e-4\n",
    "batch_size = 256 \n",
    "epochs = 30\n",
    "\n",
    "# Set the device\n",
    "mydevice = torch.device('cuda' if torch.cuda.is_available() else 'cpu')\n",
    "\n",
    "# initialize the model \n",
    "model = SiameseNN(input_size=embedding_dim)\n",
    "model.to(mydevice)\n",
    "\n",
    "# Optimizer and loss function\n",
    "optimizer = torch.optim.Adam(model.parameters(), lr=learning_rate)\n",
    "loss_fn = nn.CosineEmbeddingLoss()\n",
    "\n",
    "# create the DataLoader\n",
    "train_data = torch.utils.data.TensorDataset(data_train_nn['facts_and_question'].float(), \n",
    "                                            data_train_nn['choice'].float(), \n",
    "                                            data_train_nn['label'].float())\n",
    "\n",
    "generator = torch.Generator(device=mydevice)\n",
    "generator.manual_seed(seed)\n",
    "\n",
    "val_size = int(len(train_data) * 0.1)  # 10% of the train_data\n",
    "train_size = len(train_data) - val_size\n",
    "train_dataset, val_dataset = torch.utils.data.random_split(train_data, [train_size, val_size], generator=generator)\n",
    "train_loader = torch.utils.data.DataLoader(train_data, batch_size=batch_size, shuffle=True, generator=generator)\n",
    "# take a subset just for comparing the loss on unseen data\n",
    "val_loader = torch.utils.data.DataLoader(val_dataset, batch_size=batch_size, shuffle=False, generator=generator)\n",
    "\n",
    "# train the model\n",
    "model.train()\n",
    "\n",
    "counter = []\n",
    "loss_history_train = [] \n",
    "loss_history_val = []\n",
    "iteration_number = 0\n",
    "for epoch in range(epochs):\n",
    "    for i, (facts_and_question, choice, label) in enumerate(train_loader):\n",
    "        # send the data to the device\n",
    "        facts_and_question, choice, label = facts_and_question.to(mydevice), choice.to(mydevice), label.to(mydevice)\n",
    "        \n",
    "        # zero the gradients\n",
    "        optimizer.zero_grad()\n",
    "        \n",
    "        # forward pass\n",
    "        output1, output2 = model(facts_and_question, choice)\n",
    "        loss = loss_fn(output1, output2, label.float())\n",
    "\n",
    "        # backward pass\n",
    "        loss.backward()\n",
    "\n",
    "        # update the weights\n",
    "        optimizer.step()\n",
    "\n",
    "        # Every 100 batches print out the loss + save the loss\n",
    "        if i % 100 == 0 :\n",
    "            # compute the loss on the validation set\n",
    "            model.eval()\n",
    "            with torch.no_grad():\n",
    "                val_loss = 0\n",
    "                for facts_and_question, choice, label in val_loader:\n",
    "                    facts_and_question, choice, label = facts_and_question.to(mydevice), choice.to(mydevice), label.to(mydevice)\n",
    "                    output1, output2 = model(facts_and_question, choice)\n",
    "                    val_loss += loss_fn(output1, output2, label.float())\n",
    "                val_loss /= len(val_loader) # average loss\n",
    "\n",
    "            print(f\"Epoch {epoch}, iter {i:<3} - train_loss {round(loss.item(),4):<6}, val_loss {round(val_loss.item(),4)}\")\n",
    "            iteration_number += 100\n",
    "            counter.append(iteration_number)\n",
    "            loss_history_train.append(loss.item())\n",
    "            loss_history_val.append(val_loss.item())\n",
    "            model.train()\n",
    "\n",
    "# SAVE THE MODEL\n",
    "# torch.save(model.state_dict(), '../models/W2V_SiameseNN.model')\n",
    "\n",
    "# loss history plot\n",
    "sns.lineplot(x=counter, y=loss_history_train, color='blue')\n",
    "sns.lineplot(x=counter, y=loss_history_val, color='red')\n",
    "plt.yscale('log')\n",
    "plt.title('Loss history')\n",
    "plt.xlabel('Iteration')\n",
    "plt.ylabel('Loss')\n",
    "plt.show()"
   ]
  },
  {
   "cell_type": "markdown",
   "metadata": {},
   "source": [
    "Now we have our pretrained model, now we just need to use it for this specific task. For each sample I will give as input to the model the question and each choice (one at a time), and then I will take the one with the highest cosine similarity with the question. The difference now wrt before is that we have a model that is **trained** for creating a lower dimensional embedding which is closer to the question, for the correct answer.\n",
    "\n",
    "Use the pairs of <question, choice> (with the `forward()` method) is useful for the contrastive loss, now instead I will just run the `forward_once()` method for each input (so I get the representation)."
   ]
  },
  {
   "cell_type": "code",
   "execution_count": 52,
   "metadata": {},
   "outputs": [],
   "source": [
    "def cosineSimilarity_predict_NeuralNetwork(df_tokenized, pretrained_vectors, model, sent_to_emb=sent_to_emb):\n",
    "    model.eval()\n",
    "    \n",
    "    # the prediction method is the same, I just have one more block in the encoder\n",
    "    ### SENTENCE TO EMBEDDING ### \n",
    "\n",
    "    # apply the function to all the cols of the dataframe\n",
    "    columns_to_embed = ['facts_and_question', 'A', 'B', 'C', 'D', 'E', 'F', 'G', 'H']\n",
    "    df_emb = dict()\n",
    "    for col in columns_to_embed:\n",
    "        df_emb[col] = df_tokenized[col].apply(\n",
    "            # 1. get the embeddings (Word2Vec)\n",
    "            # 2. transform them to torch tensors (device=mydevice, float)\n",
    "            # 3. feed them to the NeuralNetwork (encode them)\n",
    "            lambda x: model.forward_once(torch.tensor(sent_to_emb(x, pretrained_vectors)).float().to(mydevice))\n",
    "        )\n",
    "\n",
    "    ### PREDICT ###\n",
    "\n",
    "    choices = ['A', 'B', 'C', 'D', 'E', 'F', 'G', 'H']\n",
    "    # compute cosine similarity between 'facts_and_question' and each choice column\n",
    "    similarity_scores = {}\n",
    "    for choice in choices:\n",
    "        similarity_scores[choice] = np.array([cosine_similarity_btw2vec(v1, v2) \\\n",
    "                                              for v1, v2 in zip(df_emb['facts_and_question'], df_emb[choice])])\n",
    "    # convert the dictionary to a DataFrame (so we navigate along the rows)\n",
    "    similarity_scores = pd.DataFrame(similarity_scores)\n",
    "    # find the choice with the highest cosine similarity\n",
    "    # since we have a pandas DataFrame, the argmax returns the column name ('A', 'B', 'C', ...)\n",
    "    predicted_choices = similarity_scores.idxmax(axis=1)\n",
    "    return predicted_choices"
   ]
  },
  {
   "cell_type": "code",
   "execution_count": 53,
   "metadata": {},
   "outputs": [
    {
     "name": "stdout",
     "output_type": "stream",
     "text": [
      "train Accuracy: 0.47166461832582274\n",
      "train F1 Score: 0.4715819357116793\n",
      "\n",
      "validation Accuracy: 0.4599260172626387\n",
      "validation F1 Score: 0.4578140373656785\n"
     ]
    }
   ],
   "source": [
    "# LOAD THE MODEL\n",
    "model = SiameseNN(input_size=300)\n",
    "model.load_state_dict(torch.load('../models/W2V_SiameseNN.model', weights_only=True, map_location=mydevice))\n",
    "\n",
    "model.eval()\n",
    "\n",
    "pred_train = cosineSimilarity_predict_NeuralNetwork(df_train_noDuplicates, pretrained_W2V, model)\n",
    "train_accuracy, train_f1 = evaluate_predictions(answerKey_train, pred_train, 'train')\n",
    "print('')\n",
    "pred_val = cosineSimilarity_predict_NeuralNetwork(df_val_noDuplicates, pretrained_W2V, model)\n",
    "val_accuracy, val_f1 = evaluate_predictions(answerKey_val, pred_val, 'validation')\n"
   ]
  },
  {
   "cell_type": "markdown",
   "metadata": {},
   "source": [
    "## Feed Forward Neural Network\n",
    "\n",
    "Instead of using a SiameseNN I will just apply a simple FeedForwardNN to the **difference between the question and one of the choice** (it is trained as a binary classification task, the correct choice have label 1, the others have value 0). \n",
    "\n",
    "As output I use a `sigmoid` function, and the `binary_cross_entropy` as loss function.\n",
    "\n",
    "![picture](../imgs/2_ffnnoutput.png)"
   ]
  },
  {
   "cell_type": "code",
   "execution_count": 54,
   "metadata": {},
   "outputs": [
    {
     "name": "stdout",
     "output_type": "stream",
     "text": [
      "tensor([[ 0.0006,  0.0729,  0.0545,  ...,  0.0729,  0.0357, -0.0308],\n",
      "        [ 0.0006,  0.0729,  0.0545,  ...,  0.0729,  0.0357, -0.0308],\n",
      "        [ 0.0006,  0.0729,  0.0545,  ...,  0.0729,  0.0357, -0.0308],\n",
      "        ...,\n",
      "        [ 0.0006,  0.0729,  0.0545,  ...,  0.0729,  0.0357, -0.0308],\n",
      "        [ 0.0006,  0.0729,  0.0545,  ...,  0.0729,  0.0357, -0.0308],\n",
      "        [ 0.0006,  0.0729,  0.0545,  ...,  0.0729,  0.0357, -0.0308]],\n",
      "       device='cuda:0', dtype=torch.float64) ...\n",
      "tensor([0, 0, 0, 0, 0, 1, 0, 0], device='cuda:0')\n"
     ]
    }
   ],
   "source": [
    "# the training data is the same, I just need to change the negative label from -1 to 0\n",
    "data_train_ffnn = data_train_nn.copy()\n",
    "data_train_ffnn['label'] = torch.where(data_train_ffnn['label'] == -1, 0, data_train_ffnn['label'])\n",
    "print(data_train_ffnn['facts_and_question'][:8], '...')\n",
    "print(data_train_ffnn['label'][:8])"
   ]
  },
  {
   "cell_type": "code",
   "execution_count": 55,
   "metadata": {},
   "outputs": [],
   "source": [
    "class Diff_FeedFarwardNN(nn.Module):\n",
    "    def __init__(self, input_size):\n",
    "        super(Diff_FeedFarwardNN, self).__init__()\n",
    "        \n",
    "        self.fc1 = nn.Linear(input_size, 256)\n",
    "        self.bn1 = nn.BatchNorm1d(256)\n",
    "        self.dropout1 = nn.Dropout(0.5)\n",
    "\n",
    "        self.fc2 = nn.Linear(256, 128)\n",
    "        self.bn2 = nn.BatchNorm1d(128)\n",
    "        self.dropout2 = nn.Dropout(0.5)\n",
    "\n",
    "        self.fc3 = nn.Linear(128, 64)\n",
    "        self.bn3 = nn.BatchNorm1d(64)\n",
    "        self.dropout3 = nn.Dropout(0.5)\n",
    "\n",
    "        self.fc4 = nn.Linear(64, 32)\n",
    "        self.bn4 = nn.BatchNorm1d(32)\n",
    "        self.dropout4 = nn.Dropout(0.5)\n",
    "\n",
    "        self.fc5 = nn.Linear(32, 1)\n",
    "\n",
    "\n",
    "    def forward(self, x1, x2):\n",
    "        \"\"\"I take as input x1 and x2, then I take the difference between the two vectors\"\"\"\n",
    "\n",
    "        x = x1 - x2\n",
    "\n",
    "        x = F.relu(self.bn1(self.fc1(x)))\n",
    "        x = self.dropout1(x)\n",
    "\n",
    "        x = F.relu(self.bn2(self.fc2(x)))\n",
    "        x = self.dropout2(x)\n",
    "\n",
    "        x = F.relu(self.bn3(self.fc3(x)))\n",
    "        x = self.dropout3(x)\n",
    "\n",
    "        x = F.relu(self.bn4(self.fc4(x)))\n",
    "        x = self.dropout4(x)\n",
    "\n",
    "        x = F.sigmoid(self.fc5(x))\n",
    "\n",
    "        return x\n"
   ]
  },
  {
   "cell_type": "code",
   "execution_count": 56,
   "metadata": {},
   "outputs": [
    {
     "name": "stdout",
     "output_type": "stream",
     "text": [
      "Epoch 0  , iter 0   - train_loss 0.5799, val_loss 0.7139\n",
      "Epoch 0  , iter 100 - train_loss 0.5443, val_loss 0.6681\n",
      "Epoch 1  , iter 0   - train_loss 0.5478, val_loss 0.6664\n",
      "Epoch 1  , iter 100 - train_loss 0.4956, val_loss 0.6492\n",
      "Epoch 2  , iter 0   - train_loss 0.4862, val_loss 0.6468\n",
      "Epoch 2  , iter 100 - train_loss 0.4562, val_loss 0.6291\n",
      "Epoch 3  , iter 0   - train_loss 0.4736, val_loss 0.6256\n",
      "Epoch 3  , iter 100 - train_loss 0.4338, val_loss 0.6099\n",
      "Epoch 4  , iter 0   - train_loss 0.4372, val_loss 0.6108\n",
      "Epoch 4  , iter 100 - train_loss 0.4134, val_loss 0.5924\n",
      "Epoch 5  , iter 0   - train_loss 0.3904, val_loss 0.5908\n",
      "Epoch 5  , iter 100 - train_loss 0.4151, val_loss 0.579\n",
      "Epoch 6  , iter 0   - train_loss 0.398 , val_loss 0.5793\n",
      "Epoch 6  , iter 100 - train_loss 0.3941, val_loss 0.5666\n",
      "Epoch 7  , iter 0   - train_loss 0.3991, val_loss 0.5669\n",
      "Epoch 7  , iter 100 - train_loss 0.3586, val_loss 0.5568\n",
      "Epoch 8  , iter 0   - train_loss 0.3566, val_loss 0.5561\n",
      "Epoch 8  , iter 100 - train_loss 0.3857, val_loss 0.5452\n",
      "Epoch 9  , iter 0   - train_loss 0.3408, val_loss 0.5452\n",
      "Epoch 9  , iter 100 - train_loss 0.3259, val_loss 0.5376\n",
      "Epoch 10 , iter 0   - train_loss 0.3562, val_loss 0.5374\n",
      "Epoch 10 , iter 100 - train_loss 0.3584, val_loss 0.5289\n",
      "Epoch 11 , iter 0   - train_loss 0.3396, val_loss 0.5283\n",
      "Epoch 11 , iter 100 - train_loss 0.2995, val_loss 0.5169\n",
      "Epoch 12 , iter 0   - train_loss 0.3475, val_loss 0.519\n",
      "Epoch 12 , iter 100 - train_loss 0.3172, val_loss 0.5089\n",
      "Epoch 13 , iter 0   - train_loss 0.3295, val_loss 0.5058\n",
      "Epoch 13 , iter 100 - train_loss 0.3223, val_loss 0.4987\n",
      "Epoch 14 , iter 0   - train_loss 0.3292, val_loss 0.5055\n",
      "Epoch 14 , iter 100 - train_loss 0.3532, val_loss 0.4914\n",
      "Epoch 15 , iter 0   - train_loss 0.3084, val_loss 0.4909\n",
      "Epoch 15 , iter 100 - train_loss 0.3276, val_loss 0.4835\n",
      "Epoch 16 , iter 0   - train_loss 0.3025, val_loss 0.4872\n",
      "Epoch 16 , iter 100 - train_loss 0.324 , val_loss 0.4796\n",
      "Epoch 17 , iter 0   - train_loss 0.2631, val_loss 0.4865\n",
      "Epoch 17 , iter 100 - train_loss 0.3012, val_loss 0.4741\n",
      "Epoch 18 , iter 0   - train_loss 0.27  , val_loss 0.4714\n",
      "Epoch 18 , iter 100 - train_loss 0.2951, val_loss 0.4754\n",
      "Epoch 19 , iter 0   - train_loss 0.2573, val_loss 0.4724\n",
      "Epoch 19 , iter 100 - train_loss 0.3029, val_loss 0.4674\n",
      "Epoch 20 , iter 0   - train_loss 0.2796, val_loss 0.4673\n",
      "Epoch 20 , iter 100 - train_loss 0.2621, val_loss 0.4555\n",
      "Epoch 21 , iter 0   - train_loss 0.2813, val_loss 0.4596\n",
      "Epoch 21 , iter 100 - train_loss 0.3027, val_loss 0.4589\n",
      "Epoch 22 , iter 0   - train_loss 0.2704, val_loss 0.4577\n",
      "Epoch 22 , iter 100 - train_loss 0.2773, val_loss 0.4463\n",
      "Epoch 23 , iter 0   - train_loss 0.2755, val_loss 0.4518\n",
      "Epoch 23 , iter 100 - train_loss 0.2589, val_loss 0.4407\n",
      "Epoch 24 , iter 0   - train_loss 0.2529, val_loss 0.4455\n",
      "Epoch 24 , iter 100 - train_loss 0.2706, val_loss 0.4424\n",
      "Epoch 25 , iter 0   - train_loss 0.2519, val_loss 0.4383\n",
      "Epoch 25 , iter 100 - train_loss 0.287 , val_loss 0.4341\n",
      "Epoch 26 , iter 0   - train_loss 0.2746, val_loss 0.4429\n",
      "Epoch 26 , iter 100 - train_loss 0.2655, val_loss 0.4363\n",
      "Epoch 27 , iter 0   - train_loss 0.2729, val_loss 0.4279\n",
      "Epoch 27 , iter 100 - train_loss 0.2587, val_loss 0.427\n",
      "Epoch 28 , iter 0   - train_loss 0.2532, val_loss 0.4331\n",
      "Epoch 28 , iter 100 - train_loss 0.2724, val_loss 0.4288\n",
      "Epoch 29 , iter 0   - train_loss 0.2377, val_loss 0.4327\n",
      "Epoch 29 , iter 100 - train_loss 0.2481, val_loss 0.4237\n",
      "Epoch 30 , iter 0   - train_loss 0.2636, val_loss 0.4146\n",
      "Epoch 30 , iter 100 - train_loss 0.2109, val_loss 0.426\n",
      "Epoch 31 , iter 0   - train_loss 0.2361, val_loss 0.4147\n",
      "Epoch 31 , iter 100 - train_loss 0.2534, val_loss 0.415\n",
      "Epoch 32 , iter 0   - train_loss 0.2711, val_loss 0.4144\n",
      "Epoch 32 , iter 100 - train_loss 0.2341, val_loss 0.4138\n",
      "Epoch 33 , iter 0   - train_loss 0.2296, val_loss 0.4111\n",
      "Epoch 33 , iter 100 - train_loss 0.2722, val_loss 0.4088\n",
      "Epoch 34 , iter 0   - train_loss 0.2154, val_loss 0.4163\n",
      "Epoch 34 , iter 100 - train_loss 0.278 , val_loss 0.4014\n",
      "Epoch 35 , iter 0   - train_loss 0.2098, val_loss 0.4154\n",
      "Epoch 35 , iter 100 - train_loss 0.2614, val_loss 0.4008\n",
      "Epoch 36 , iter 0   - train_loss 0.2561, val_loss 0.4036\n",
      "Epoch 36 , iter 100 - train_loss 0.2355, val_loss 0.4011\n",
      "Epoch 37 , iter 0   - train_loss 0.2525, val_loss 0.4028\n",
      "Epoch 37 , iter 100 - train_loss 0.2173, val_loss 0.3986\n",
      "Epoch 38 , iter 0   - train_loss 0.2447, val_loss 0.3987\n",
      "Epoch 38 , iter 100 - train_loss 0.2551, val_loss 0.396\n",
      "Epoch 39 , iter 0   - train_loss 0.2511, val_loss 0.4018\n",
      "Epoch 39 , iter 100 - train_loss 0.2206, val_loss 0.3943\n",
      "Epoch 40 , iter 0   - train_loss 0.271 , val_loss 0.3992\n",
      "Epoch 40 , iter 100 - train_loss 0.2014, val_loss 0.3953\n",
      "Epoch 41 , iter 0   - train_loss 0.236 , val_loss 0.3957\n",
      "Epoch 41 , iter 100 - train_loss 0.2486, val_loss 0.3934\n",
      "Epoch 42 , iter 0   - train_loss 0.2178, val_loss 0.389\n",
      "Epoch 42 , iter 100 - train_loss 0.2289, val_loss 0.3848\n",
      "Epoch 43 , iter 0   - train_loss 0.2329, val_loss 0.3816\n",
      "Epoch 43 , iter 100 - train_loss 0.2063, val_loss 0.3894\n",
      "Epoch 44 , iter 0   - train_loss 0.2072, val_loss 0.3839\n",
      "Epoch 44 , iter 100 - train_loss 0.241 , val_loss 0.3815\n",
      "Epoch 45 , iter 0   - train_loss 0.2404, val_loss 0.3761\n",
      "Epoch 45 , iter 100 - train_loss 0.2377, val_loss 0.3737\n",
      "Epoch 46 , iter 0   - train_loss 0.2155, val_loss 0.3744\n",
      "Epoch 46 , iter 100 - train_loss 0.2287, val_loss 0.3831\n",
      "Epoch 47 , iter 0   - train_loss 0.2282, val_loss 0.3803\n",
      "Epoch 47 , iter 100 - train_loss 0.2369, val_loss 0.3688\n",
      "Epoch 48 , iter 0   - train_loss 0.2368, val_loss 0.3731\n",
      "Epoch 48 , iter 100 - train_loss 0.2305, val_loss 0.3757\n",
      "Epoch 49 , iter 0   - train_loss 0.2069, val_loss 0.3715\n",
      "Epoch 49 , iter 100 - train_loss 0.2445, val_loss 0.3562\n"
     ]
    },
    {
     "data": {
      "image/png": "[encoded data removed]",
      "text/plain": [
       "<Figure size 640x480 with 1 Axes>"
      ]
     },
     "metadata": {},
     "output_type": "display_data"
    }
   ],
   "source": [
    "# HYPERPARAMETERS\n",
    "embedding_dim = pretrained_W2V.vector_size\n",
    "learning_rate = 1e-4\n",
    "batch_size = 512 \n",
    "epochs = 50\n",
    "\n",
    "# Set the device\n",
    "mydevice = torch.device('cuda' if torch.cuda.is_available() else 'cpu')\n",
    "\n",
    "# initialize the model \n",
    "model = Diff_FeedFarwardNN(input_size=embedding_dim)\n",
    "model.to(mydevice)\n",
    "\n",
    "# Optimizer and loss function\n",
    "optimizer = torch.optim.Adam(model.parameters(), lr=learning_rate)\n",
    "loss_fn = nn.BCELoss()\n",
    "\n",
    "# create the DataLoader\n",
    "train_data = torch.utils.data.TensorDataset(data_train_ffnn['facts_and_question'].float(), \n",
    "                                            data_train_ffnn['choice'].float(), \n",
    "                                            data_train_ffnn['label'].float())\n",
    "\n",
    "generator = torch.Generator(device=mydevice)\n",
    "val_size = int(len(train_data) * 0.1)  # 10% of the train_data\n",
    "train_size = len(train_data) - val_size\n",
    "train_dataset, val_dataset = torch.utils.data.random_split(train_data, [train_size, val_size], generator=generator)\n",
    "train_loader = torch.utils.data.DataLoader(train_data, batch_size=batch_size, shuffle=True, generator=generator)\n",
    "# take a subset just for comparing the loss on unseen data\n",
    "val_loader = torch.utils.data.DataLoader(val_dataset, batch_size=batch_size, shuffle=False)\n",
    "\n",
    "# train the model\n",
    "model.train()\n",
    "\n",
    "counter = []\n",
    "loss_history_train = [] \n",
    "loss_history_val = []\n",
    "iteration_number = 0\n",
    "for epoch in range(epochs):\n",
    "    for i, (facts_and_question, choice, label) in enumerate(train_loader):\n",
    "        # send the data to the device\n",
    "        facts_and_question, choice, label = facts_and_question.to(mydevice), choice.to(mydevice), label.to(mydevice)\n",
    "        \n",
    "        # zero the gradients\n",
    "        optimizer.zero_grad()\n",
    "        \n",
    "        # forward pass\n",
    "        output = model(facts_and_question, choice)\n",
    "        loss = loss_fn(output, label.float().unsqueeze(1))\n",
    "\n",
    "        # backward pass\n",
    "        loss.backward()\n",
    "\n",
    "        # update the weights\n",
    "        optimizer.step()\n",
    "\n",
    "        # Every 100 batches print out the loss + save the loss\n",
    "        if i % 100 == 0 :\n",
    "            # compute the loss on the validation set\n",
    "            model.eval()\n",
    "            with torch.no_grad():\n",
    "                val_loss = 0\n",
    "                for facts_and_question, choice, label in val_loader:\n",
    "                    facts_and_question, choice, label = facts_and_question.to(mydevice), choice.to(mydevice), label.to(mydevice)\n",
    "                    output = model(facts_and_question, choice)\n",
    "                    val_loss += loss_fn(output, label.float().unsqueeze(1))\n",
    "                val_loss /= len(val_loader) # average loss\n",
    "\n",
    "            print(f\"Epoch {epoch:<3}, iter {i:<3} - train_loss {round(loss.item(),4):<6}, val_loss {round(val_loss.item(),4)}\")\n",
    "            iteration_number += 100\n",
    "            counter.append(iteration_number)\n",
    "            loss_history_train.append(loss.item())\n",
    "            loss_history_val.append(val_loss.item())\n",
    "            model.train()\n",
    "\n",
    "# SAVE THE MODEL\n",
    "# torch.save(model.state_dict(), '../models/W2V_Diff_FFNN.model')\n",
    "\n",
    "# loss history plot\n",
    "# the validation loss is smoother because it is computed on the whole validation set\n",
    "# the training loss is computed on the training mini-batch\n",
    "sns.lineplot(x=counter, y=loss_history_train, color='blue')\n",
    "sns.lineplot(x=counter, y=loss_history_val, color='red')\n",
    "plt.yscale('log')\n",
    "plt.title('Loss history')\n",
    "plt.xlabel('Iteration')\n",
    "plt.ylabel('Loss')\n",
    "plt.show()"
   ]
  },
  {
   "cell_type": "markdown",
   "metadata": {},
   "source": [
    "I have trained the model to make closer to the class 1 the output given by the difference of the vectors *<question, correct choice>* (and close to 0 the pairs *<question, wrong choice>*). Now I just need to feed the model, and I take as prediction the output which is closer to 1 between the 8 choices (`argmax`)"
   ]
  },
  {
   "cell_type": "code",
   "execution_count": 57,
   "metadata": {},
   "outputs": [],
   "source": [
    "def argmax_predict_NeuralNetwork(df, pretrained_vectors, model):\n",
    "    model.eval()\n",
    "    \n",
    "    # get the Word2Vec embeddings and transform them to torch tensors\n",
    "    data = {}\n",
    "    for col in ['facts_and_question', 'A', 'B', 'C', 'D', 'E', 'F', 'G', 'H']:\n",
    "        # Apply the sent_to_emb function and stack the results into a tensor\n",
    "        data[col] = torch.stack(df[col].apply(lambda x: torch.tensor(sent_to_emb(x, pretrained_vectors)).float().to(mydevice)).tolist())\n",
    "    \n",
    "    # Apply the model to the data\n",
    "    output = model(data['facts_and_question'], data['A'])\n",
    "    for col in ['B', 'C', 'D', 'E', 'F', 'G', 'H']:\n",
    "        output = torch.cat((output, model(data['facts_and_question'], data[col])), dim=1)\n",
    "\n",
    "    predicted_choices = torch.argmax(output, dim=1)\n",
    "    # map the indexes to the choices\n",
    "    choices = ['A', 'B', 'C', 'D', 'E', 'F', 'G', 'H']\n",
    "    predicted_choices = predicted_choices.cpu().detach().numpy()\n",
    "    predicted_choices = [choices[i] for i in predicted_choices]\n",
    "    predicted_choices = pd.Series(predicted_choices)\n",
    "    return predicted_choices"
   ]
  },
  {
   "cell_type": "code",
   "execution_count": 58,
   "metadata": {},
   "outputs": [
    {
     "name": "stdout",
     "output_type": "stream",
     "text": [
      "train Accuracy: 0.9078246620237608\n",
      "train F1 Score: 0.9077555375541766\n",
      "\n",
      "validation Accuracy: 0.7632552404438965\n",
      "validation F1 Score: 0.7626933226570123\n"
     ]
    }
   ],
   "source": [
    "# LOAD THE MODEL\n",
    "model = Diff_FeedFarwardNN(input_size=300)\n",
    "model.load_state_dict(torch.load('../models/W2V_Diff_FFNN.model', weights_only=True, map_location=mydevice))\n",
    "\n",
    "model.eval()\n",
    "\n",
    "pred_train = argmax_predict_NeuralNetwork(df_train_noDuplicates, pretrained_W2V, model)\n",
    "train_accuracy, train_f1 = evaluate_predictions(answerKey_train, pred_train, 'train')\n",
    "print('')\n",
    "pred_val = argmax_predict_NeuralNetwork(df_val_noDuplicates, pretrained_W2V, model)\n",
    "val_accuracy, val_f1 = evaluate_predictions(answerKey_val, pred_val, 'validation')\n"
   ]
  },
  {
   "cell_type": "markdown",
   "metadata": {},
   "source": [
    "There is a very high overfitting, but at the accuracy on validation is much higher wrt the result with the SiameseNN.\n",
    "\n",
    "Before I have taken the difference between the two input documents, now I try to **concatenate** them and apply a (bigger) linear layer."
   ]
  },
  {
   "cell_type": "code",
   "execution_count": 59,
   "metadata": {},
   "outputs": [],
   "source": [
    "class Concat_FeedFarwardNN(nn.Module):\n",
    "    def __init__(self, input_size):\n",
    "        super(Concat_FeedFarwardNN, self).__init__()\n",
    "\n",
    "        # self.fc4 = nn.Linear(64, 1)\n",
    "        self.fc1 = nn.Linear(input_size*2, 128)\n",
    "        self.bn1 = nn.BatchNorm1d(128)\n",
    "        self.dropout1 = nn.Dropout(0.5)\n",
    "\n",
    "        self.fc2 = nn.Linear(128, 64)\n",
    "        self.bn2 = nn.BatchNorm1d(64)\n",
    "        self.dropout2 = nn.Dropout(0.5)\n",
    "\n",
    "        self.fc3 = nn.Linear(64, 32)\n",
    "        self.bn3 = nn.BatchNorm1d(32)\n",
    "        self.dropout3 = nn.Dropout(0.5)\n",
    "\n",
    "        self.fc4 = nn.Linear(32, 1)\n",
    "\n",
    "    def forward(self, x1, x2):\n",
    "        \"\"\"I take as input x1 and x2, then I concatenate the two vectors\"\"\"\n",
    "\n",
    "        x = torch.cat((x1, x2), dim=1)\n",
    "\n",
    "        x = F.relu(self.bn1(self.fc1(x)))\n",
    "        x = self.dropout1(x)\n",
    "\n",
    "        x = F.relu(self.bn2(self.fc2(x)))\n",
    "        x = self.dropout2(x)\n",
    "\n",
    "        x = F.relu(self.bn3(self.fc3(x)))\n",
    "        x = self.dropout3(x)\n",
    "\n",
    "        x = F.sigmoid(self.fc4(x))\n",
    "\n",
    "        return x\n"
   ]
  },
  {
   "cell_type": "code",
   "execution_count": 60,
   "metadata": {},
   "outputs": [
    {
     "name": "stdout",
     "output_type": "stream",
     "text": [
      "Epoch 0  , iter 0   - train_loss 0.7675, val_loss 0.7529\n",
      "Epoch 1  , iter 0   - train_loss 0.7492, val_loss 0.7388\n",
      "Epoch 2  , iter 0   - train_loss 0.7107, val_loss 0.7172\n",
      "Epoch 3  , iter 0   - train_loss 0.6818, val_loss 0.6972\n",
      "Epoch 4  , iter 0   - train_loss 0.6523, val_loss 0.6783\n",
      "Epoch 5  , iter 0   - train_loss 0.617 , val_loss 0.6588\n",
      "Epoch 6  , iter 0   - train_loss 0.5917, val_loss 0.6427\n",
      "Epoch 7  , iter 0   - train_loss 0.5616, val_loss 0.6238\n",
      "Epoch 8  , iter 0   - train_loss 0.554 , val_loss 0.6057\n",
      "Epoch 9  , iter 0   - train_loss 0.5228, val_loss 0.5888\n",
      "Epoch 10 , iter 0   - train_loss 0.5306, val_loss 0.5708\n",
      "Epoch 11 , iter 0   - train_loss 0.5198, val_loss 0.5551\n",
      "Epoch 12 , iter 0   - train_loss 0.4842, val_loss 0.5403\n",
      "Epoch 13 , iter 0   - train_loss 0.5006, val_loss 0.5265\n",
      "Epoch 14 , iter 0   - train_loss 0.4751, val_loss 0.5133\n",
      "Epoch 15 , iter 0   - train_loss 0.4499, val_loss 0.5007\n",
      "Epoch 16 , iter 0   - train_loss 0.4371, val_loss 0.4911\n",
      "Epoch 17 , iter 0   - train_loss 0.4471, val_loss 0.4784\n",
      "Epoch 18 , iter 0   - train_loss 0.4486, val_loss 0.4687\n",
      "Epoch 19 , iter 0   - train_loss 0.431 , val_loss 0.4618\n",
      "Epoch 20 , iter 0   - train_loss 0.4095, val_loss 0.4505\n",
      "Epoch 21 , iter 0   - train_loss 0.4208, val_loss 0.4441\n",
      "Epoch 22 , iter 0   - train_loss 0.4064, val_loss 0.4371\n",
      "Epoch 23 , iter 0   - train_loss 0.4092, val_loss 0.4311\n",
      "Epoch 24 , iter 0   - train_loss 0.3935, val_loss 0.4235\n",
      "Epoch 25 , iter 0   - train_loss 0.3749, val_loss 0.4186\n",
      "Epoch 26 , iter 0   - train_loss 0.4088, val_loss 0.4117\n",
      "Epoch 27 , iter 0   - train_loss 0.375 , val_loss 0.4065\n",
      "Epoch 28 , iter 0   - train_loss 0.3911, val_loss 0.4016\n",
      "Epoch 29 , iter 0   - train_loss 0.3808, val_loss 0.3987\n",
      "Epoch 30 , iter 0   - train_loss 0.4032, val_loss 0.3931\n",
      "Epoch 31 , iter 0   - train_loss 0.3373, val_loss 0.389\n",
      "Epoch 32 , iter 0   - train_loss 0.381 , val_loss 0.3828\n",
      "Epoch 33 , iter 0   - train_loss 0.368 , val_loss 0.3797\n",
      "Epoch 34 , iter 0   - train_loss 0.3627, val_loss 0.3744\n",
      "Epoch 35 , iter 0   - train_loss 0.3648, val_loss 0.371\n",
      "Epoch 36 , iter 0   - train_loss 0.3598, val_loss 0.3648\n",
      "Epoch 37 , iter 0   - train_loss 0.385 , val_loss 0.3627\n",
      "Epoch 38 , iter 0   - train_loss 0.3723, val_loss 0.3594\n",
      "Epoch 39 , iter 0   - train_loss 0.3641, val_loss 0.3557\n",
      "Epoch 40 , iter 0   - train_loss 0.3916, val_loss 0.3548\n",
      "Epoch 41 , iter 0   - train_loss 0.3364, val_loss 0.3525\n",
      "Epoch 42 , iter 0   - train_loss 0.3393, val_loss 0.3481\n",
      "Epoch 43 , iter 0   - train_loss 0.36  , val_loss 0.344\n",
      "Epoch 44 , iter 0   - train_loss 0.3446, val_loss 0.34\n",
      "Epoch 45 , iter 0   - train_loss 0.3512, val_loss 0.3379\n",
      "Epoch 46 , iter 0   - train_loss 0.3293, val_loss 0.3339\n",
      "Epoch 47 , iter 0   - train_loss 0.3402, val_loss 0.3326\n",
      "Epoch 48 , iter 0   - train_loss 0.3096, val_loss 0.3282\n",
      "Epoch 49 , iter 0   - train_loss 0.3107, val_loss 0.3247\n",
      "Epoch 50 , iter 0   - train_loss 0.316 , val_loss 0.3239\n",
      "Epoch 51 , iter 0   - train_loss 0.325 , val_loss 0.3203\n",
      "Epoch 52 , iter 0   - train_loss 0.3324, val_loss 0.3187\n",
      "Epoch 53 , iter 0   - train_loss 0.3309, val_loss 0.314\n",
      "Epoch 54 , iter 0   - train_loss 0.3053, val_loss 0.3141\n",
      "Epoch 55 , iter 0   - train_loss 0.3219, val_loss 0.3068\n",
      "Epoch 56 , iter 0   - train_loss 0.3094, val_loss 0.3055\n",
      "Epoch 57 , iter 0   - train_loss 0.3061, val_loss 0.3022\n",
      "Epoch 58 , iter 0   - train_loss 0.2815, val_loss 0.3016\n",
      "Epoch 59 , iter 0   - train_loss 0.3181, val_loss 0.2991\n",
      "Epoch 60 , iter 0   - train_loss 0.3027, val_loss 0.2967\n",
      "Epoch 61 , iter 0   - train_loss 0.2833, val_loss 0.2974\n",
      "Epoch 62 , iter 0   - train_loss 0.3072, val_loss 0.2918\n",
      "Epoch 63 , iter 0   - train_loss 0.3011, val_loss 0.2956\n",
      "Epoch 64 , iter 0   - train_loss 0.3102, val_loss 0.2852\n",
      "Epoch 65 , iter 0   - train_loss 0.3027, val_loss 0.2942\n",
      "Epoch 66 , iter 0   - train_loss 0.2971, val_loss 0.2832\n",
      "Epoch 67 , iter 0   - train_loss 0.2968, val_loss 0.2847\n",
      "Epoch 68 , iter 0   - train_loss 0.2776, val_loss 0.2785\n",
      "Epoch 69 , iter 0   - train_loss 0.2919, val_loss 0.2815\n",
      "Epoch 70 , iter 0   - train_loss 0.2956, val_loss 0.276\n",
      "Epoch 71 , iter 0   - train_loss 0.2713, val_loss 0.2814\n",
      "Epoch 72 , iter 0   - train_loss 0.2728, val_loss 0.2703\n",
      "Epoch 73 , iter 0   - train_loss 0.2739, val_loss 0.2709\n",
      "Epoch 74 , iter 0   - train_loss 0.2806, val_loss 0.263\n",
      "Epoch 75 , iter 0   - train_loss 0.2753, val_loss 0.267\n",
      "Epoch 76 , iter 0   - train_loss 0.2788, val_loss 0.2615\n",
      "Epoch 77 , iter 0   - train_loss 0.2975, val_loss 0.2646\n",
      "Epoch 78 , iter 0   - train_loss 0.3093, val_loss 0.2597\n",
      "Epoch 79 , iter 0   - train_loss 0.2538, val_loss 0.2651\n",
      "Epoch 80 , iter 0   - train_loss 0.3008, val_loss 0.2569\n",
      "Epoch 81 , iter 0   - train_loss 0.2733, val_loss 0.2646\n",
      "Epoch 82 , iter 0   - train_loss 0.2572, val_loss 0.2601\n",
      "Epoch 83 , iter 0   - train_loss 0.2579, val_loss 0.2519\n",
      "Epoch 84 , iter 0   - train_loss 0.2823, val_loss 0.2513\n",
      "Epoch 85 , iter 0   - train_loss 0.2692, val_loss 0.2475\n",
      "Epoch 86 , iter 0   - train_loss 0.2655, val_loss 0.2492\n",
      "Epoch 87 , iter 0   - train_loss 0.2669, val_loss 0.2488\n",
      "Epoch 88 , iter 0   - train_loss 0.2539, val_loss 0.2478\n",
      "Epoch 89 , iter 0   - train_loss 0.2356, val_loss 0.2479\n",
      "Epoch 90 , iter 0   - train_loss 0.2418, val_loss 0.24\n",
      "Epoch 91 , iter 0   - train_loss 0.2445, val_loss 0.2446\n",
      "Epoch 92 , iter 0   - train_loss 0.2582, val_loss 0.2365\n",
      "Epoch 93 , iter 0   - train_loss 0.2647, val_loss 0.2425\n",
      "Epoch 94 , iter 0   - train_loss 0.2448, val_loss 0.2309\n",
      "Epoch 95 , iter 0   - train_loss 0.2525, val_loss 0.2309\n",
      "Epoch 96 , iter 0   - train_loss 0.2461, val_loss 0.2323\n",
      "Epoch 97 , iter 0   - train_loss 0.2729, val_loss 0.2266\n",
      "Epoch 98 , iter 0   - train_loss 0.275 , val_loss 0.2268\n",
      "Epoch 99 , iter 0   - train_loss 0.2539, val_loss 0.2274\n"
     ]
    },
    {
     "data": {
      "image/png": "[encoded data removed]",
      "text/plain": [
       "<Figure size 640x480 with 1 Axes>"
      ]
     },
     "metadata": {},
     "output_type": "display_data"
    }
   ],
   "source": [
    "# HYPERPARAMETERS\n",
    "embedding_dim = pretrained_W2V.vector_size\n",
    "learning_rate = 1e-4\n",
    "batch_size = 1024 \n",
    "epochs = 100\n",
    "\n",
    "# Set the device\n",
    "mydevice = torch.device('cuda' if torch.cuda.is_available() else 'cpu')\n",
    "\n",
    "# initialize the model \n",
    "model = Concat_FeedFarwardNN(input_size=embedding_dim)\n",
    "model.to(mydevice)\n",
    "\n",
    "# Optimizer and loss function\n",
    "optimizer = torch.optim.Adam(model.parameters(), lr=learning_rate)\n",
    "loss_fn = nn.BCELoss()\n",
    "\n",
    "# create the DataLoader\n",
    "train_data = torch.utils.data.TensorDataset(data_train_ffnn['facts_and_question'].float(), \n",
    "                                            data_train_ffnn['choice'].float(), \n",
    "                                            data_train_ffnn['label'].float())\n",
    "\n",
    "generator = torch.Generator(device=mydevice)\n",
    "val_size = int(len(train_data) * 0.1)  # 10% of the train_data\n",
    "train_size = len(train_data) - val_size\n",
    "train_dataset, val_dataset = torch.utils.data.random_split(train_data, [train_size, val_size], generator=generator)\n",
    "train_loader = torch.utils.data.DataLoader(train_data, batch_size=batch_size, shuffle=True, generator=generator)\n",
    "# take a subset just for comparing the loss on unseen data\n",
    "val_loader = torch.utils.data.DataLoader(val_dataset, batch_size=batch_size, shuffle=False)\n",
    "\n",
    "# train the model\n",
    "model.train()\n",
    "\n",
    "counter = []\n",
    "loss_history_train = [] \n",
    "loss_history_val = []\n",
    "iteration_number = 0\n",
    "for epoch in range(epochs):\n",
    "    for i, (facts_and_question, choice, label) in enumerate(train_loader):\n",
    "        # send the data to the device\n",
    "        facts_and_question, choice, label = facts_and_question.to(mydevice), choice.to(mydevice), label.to(mydevice)\n",
    "        \n",
    "        # zero the gradients\n",
    "        optimizer.zero_grad()\n",
    "        \n",
    "        # forward pass\n",
    "        output = model(facts_and_question, choice)\n",
    "        loss = loss_fn(output, label.float().unsqueeze(1))\n",
    "\n",
    "        # backward pass\n",
    "        loss.backward()\n",
    "\n",
    "        # update the weights\n",
    "        optimizer.step()\n",
    "\n",
    "        # Every 100 batches print out the loss + save the loss\n",
    "        if i % 100 == 0 :\n",
    "            # compute the loss on the validation set\n",
    "            model.eval()\n",
    "            with torch.no_grad():\n",
    "                val_loss = 0\n",
    "                for facts_and_question, choice, label in val_loader:\n",
    "                    facts_and_question, choice, label = facts_and_question.to(mydevice), choice.to(mydevice), label.to(mydevice)\n",
    "                    output = model(facts_and_question, choice)\n",
    "                    val_loss += loss_fn(output, label.float().unsqueeze(1))\n",
    "                val_loss /= len(val_loader) # average loss\n",
    "\n",
    "            print(f\"Epoch {epoch:<3}, iter {i:<3} - train_loss {round(loss.item(),4):<6}, val_loss {round(val_loss.item(),4)}\")\n",
    "            iteration_number += 100\n",
    "            counter.append(iteration_number)\n",
    "            loss_history_train.append(loss.item())\n",
    "            loss_history_val.append(val_loss.item())\n",
    "            model.train()\n",
    "\n",
    "# SAVE THE MODEL\n",
    "# torch.save(model.state_dict(), '../models/W2V_Concat_FFNN.model')\n",
    "\n",
    "# loss history plot\n",
    "# the validation loss is smoother because it is computed on the whole validation set\n",
    "# the training loss is computed on the training mini-batch\n",
    "sns.lineplot(x=counter, y=loss_history_train, color='blue')\n",
    "sns.lineplot(x=counter, y=loss_history_val, color='red')\n",
    "plt.yscale('log')\n",
    "plt.title('Loss history')\n",
    "plt.xlabel('Iteration')\n",
    "plt.ylabel('Loss')\n",
    "plt.show()"
   ]
  },
  {
   "cell_type": "code",
   "execution_count": 61,
   "metadata": {},
   "outputs": [
    {
     "name": "stdout",
     "output_type": "stream",
     "text": [
      "train Accuracy: 0.8687696299330875\n",
      "train F1 Score: 0.868752565207096\n",
      "\n",
      "validation Accuracy: 0.6781750924784217\n",
      "validation F1 Score: 0.6768904445154131\n"
     ]
    }
   ],
   "source": [
    "# LOAD THE MODEL\n",
    "model = Concat_FeedFarwardNN(input_size=300)\n",
    "model.load_state_dict(torch.load('../models/W2V_Concat_FFNN.model', weights_only=True, map_location=mydevice))\n",
    "\n",
    "model.eval()\n",
    "\n",
    "# the function is the same, I just need to change the model\n",
    "pred_train = argmax_predict_NeuralNetwork(df_train_noDuplicates, pretrained_W2V, model)\n",
    "train_accuracy, train_f1 = evaluate_predictions(answerKey_train, pred_train, 'train')\n",
    "print('')\n",
    "pred_val = argmax_predict_NeuralNetwork(df_val_noDuplicates, pretrained_W2V, model)\n",
    "val_accuracy, val_f1 = evaluate_predictions(answerKey_val, pred_val, 'validation')"
   ]
  },
  {
   "cell_type": "markdown",
   "metadata": {},
   "source": [
    "This is worse than the previous one (wich simply compute the difference $x = x_1 - x_2$), but a little bit better than the Siamese one. Also the overfitting problem can be seen mainly only on our task, and not on the training of the neural network.\n",
    "\n",
    "Ranking : \n",
    "1) Diff_FFNN : validation_acc = $0.763$\n",
    "2) Concat_FFNN : validation_acc = $0.678$\n",
    "3) SiameseNN : validation_acc = $0.459$"
   ]
  },
  {
   "cell_type": "markdown",
   "metadata": {},
   "source": [
    "---\n",
    "\n",
    "### **Best result notebook 2 -> W2V - cos_similarity - noDuplicates - IDF weighted**\n",
    "\n",
    "`pretrained vectors = 'word2vec-google-news-300'`\n",
    "\n",
    "From each sentence I have removed duplicated words (just one occurence for each word). The representation of the sentences is obteined by the weighted average of the word ebeddings, with the IDF score of each word as weight. The answer is chosen by taking the one with the highest cosine similarity with the `'facts_and_question'` entry.\n",
    "\n",
    "| Metric          | Train     | Validation |\n",
    "|-----------------|-----------|------------|\n",
    "| Accuracy        | $0.78191$ | $0.79901$  |\n",
    "| F1 Score        | $0.78183$ | $0.79830$  |\n",
    "\n",
    "The IDF weights gives a slight improvement wrt the result obtained by doing a simple average (the weights of each word are equal) of the word embeddings:\n",
    "\n",
    "| Metric          | Train     | Validation |\n",
    "|-----------------|-----------|------------|\n",
    "| Accuracy        | $0.77236$ | $0.78051$  |\n",
    "| F1 Score        | $0.77223$ | $0.77936$  |\n",
    "\n",
    "The main improvement wrt the other results is given by removing duplicated words (more than the idf weighting)."
   ]
  },
  {
   "cell_type": "markdown",
   "metadata": {},
   "source": []
  }
 ],
 "metadata": {
  "kernelspec": {
   "display_name": "nlp_env",
   "language": "python",
   "name": "python3"
  },
  "language_info": {
   "codemirror_mode": {
    "name": "ipython",
    "version": 3
   },
   "file_extension": ".py",
   "mimetype": "text/x-python",
   "name": "python",
   "nbconvert_exporter": "python",
   "pygments_lexer": "ipython3",
   "version": "3.12.3"
  }
 },
 "nbformat": 4,
 "nbformat_minor": 2
}
